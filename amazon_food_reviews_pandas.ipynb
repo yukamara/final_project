{
  "nbformat": 4,
  "nbformat_minor": 0,
  "metadata": {
    "colab": {
      "name": "amazon_food_reviews_template.ipynb",
      "provenance": [],
      "collapsed_sections": []
    },
    "kernelspec": {
      "name": "python3",
      "display_name": "Python 3"
    },
    "language_info": {
      "name": "python"
    }
  },
  "cells": [
    {
      "cell_type": "markdown",
      "metadata": {
        "id": "T6ye7hJ2E_Yh"
      },
      "source": [
        "## Import Libraries"
      ]
    },
    {
      "cell_type": "code",
      "metadata": {
        "id": "eEqQFvBzGSG6"
      },
      "source": [
        "# importing required libraries\n",
        "import pandas as pd\n",
        "from sklearn.feature_extraction.text import ENGLISH_STOP_WORDS, TfidfVectorizer\n",
        "from sklearn.linear_model import LogisticRegression\n",
        "from sklearn.pipeline import Pipeline\n",
        "from sklearn.metrics import f1_score\n",
        "from sklearn.model_selection import train_test_split"
      ],
      "execution_count": 1,
      "outputs": []
    },
    {
      "cell_type": "markdown",
      "metadata": {
        "id": "4YAIFrwOFJip"
      },
      "source": [
        "## Read in Dataset and visualize it"
      ]
    },
    {
      "cell_type": "code",
      "metadata": {
        "id": "N6kTMq-nQVpL"
      },
      "source": [
        "data = pd.read_csv('https://data-bootcamp-x399.s3.us-east-2.amazonaws.com/Reviews.csv')"
      ],
      "execution_count": 2,
      "outputs": []
    },
    {
      "cell_type": "code",
      "metadata": {
        "id": "4JSnx1KbQgLz",
        "colab": {
          "base_uri": "https://localhost:8080/",
          "height": 204
        },
        "outputId": "008c0c2f-f61a-4e73-d3b1-05e2b70eb4bd"
      },
      "source": [
        "\n",
        "data.head()"
      ],
      "execution_count": 3,
      "outputs": [
        {
          "output_type": "execute_result",
          "data": {
            "text/html": [
              "<div>\n",
              "<style scoped>\n",
              "    .dataframe tbody tr th:only-of-type {\n",
              "        vertical-align: middle;\n",
              "    }\n",
              "\n",
              "    .dataframe tbody tr th {\n",
              "        vertical-align: top;\n",
              "    }\n",
              "\n",
              "    .dataframe thead th {\n",
              "        text-align: right;\n",
              "    }\n",
              "</style>\n",
              "<table border=\"1\" class=\"dataframe\">\n",
              "  <thead>\n",
              "    <tr style=\"text-align: right;\">\n",
              "      <th></th>\n",
              "      <th>Id</th>\n",
              "      <th>ProductId</th>\n",
              "      <th>UserId</th>\n",
              "      <th>ProfileName</th>\n",
              "      <th>HelpfulnessNumerator</th>\n",
              "      <th>HelpfulnessDenominator</th>\n",
              "      <th>Score</th>\n",
              "      <th>Time</th>\n",
              "      <th>Summary</th>\n",
              "      <th>Text</th>\n",
              "    </tr>\n",
              "  </thead>\n",
              "  <tbody>\n",
              "    <tr>\n",
              "      <th>0</th>\n",
              "      <td>1</td>\n",
              "      <td>B001E4KFG0</td>\n",
              "      <td>A3SGXH7AUHU8GW</td>\n",
              "      <td>delmartian</td>\n",
              "      <td>1</td>\n",
              "      <td>1</td>\n",
              "      <td>5</td>\n",
              "      <td>1303862400</td>\n",
              "      <td>Good Quality Dog Food</td>\n",
              "      <td>I have bought several of the Vitality canned d...</td>\n",
              "    </tr>\n",
              "    <tr>\n",
              "      <th>1</th>\n",
              "      <td>2</td>\n",
              "      <td>B00813GRG4</td>\n",
              "      <td>A1D87F6ZCVE5NK</td>\n",
              "      <td>dll pa</td>\n",
              "      <td>0</td>\n",
              "      <td>0</td>\n",
              "      <td>1</td>\n",
              "      <td>1346976000</td>\n",
              "      <td>Not as Advertised</td>\n",
              "      <td>Product arrived labeled as Jumbo Salted Peanut...</td>\n",
              "    </tr>\n",
              "    <tr>\n",
              "      <th>2</th>\n",
              "      <td>3</td>\n",
              "      <td>B000LQOCH0</td>\n",
              "      <td>ABXLMWJIXXAIN</td>\n",
              "      <td>Natalia Corres \"Natalia Corres\"</td>\n",
              "      <td>1</td>\n",
              "      <td>1</td>\n",
              "      <td>4</td>\n",
              "      <td>1219017600</td>\n",
              "      <td>\"Delight\" says it all</td>\n",
              "      <td>This is a confection that has been around a fe...</td>\n",
              "    </tr>\n",
              "    <tr>\n",
              "      <th>3</th>\n",
              "      <td>4</td>\n",
              "      <td>B000UA0QIQ</td>\n",
              "      <td>A395BORC6FGVXV</td>\n",
              "      <td>Karl</td>\n",
              "      <td>3</td>\n",
              "      <td>3</td>\n",
              "      <td>2</td>\n",
              "      <td>1307923200</td>\n",
              "      <td>Cough Medicine</td>\n",
              "      <td>If you are looking for the secret ingredient i...</td>\n",
              "    </tr>\n",
              "    <tr>\n",
              "      <th>4</th>\n",
              "      <td>5</td>\n",
              "      <td>B006K2ZZ7K</td>\n",
              "      <td>A1UQRSCLF8GW1T</td>\n",
              "      <td>Michael D. Bigham \"M. Wassir\"</td>\n",
              "      <td>0</td>\n",
              "      <td>0</td>\n",
              "      <td>5</td>\n",
              "      <td>1350777600</td>\n",
              "      <td>Great taffy</td>\n",
              "      <td>Great taffy at a great price.  There was a wid...</td>\n",
              "    </tr>\n",
              "  </tbody>\n",
              "</table>\n",
              "</div>"
            ],
            "text/plain": [
              "   Id  ...                                               Text\n",
              "0   1  ...  I have bought several of the Vitality canned d...\n",
              "1   2  ...  Product arrived labeled as Jumbo Salted Peanut...\n",
              "2   3  ...  This is a confection that has been around a fe...\n",
              "3   4  ...  If you are looking for the secret ingredient i...\n",
              "4   5  ...  Great taffy at a great price.  There was a wid...\n",
              "\n",
              "[5 rows x 10 columns]"
            ]
          },
          "metadata": {},
          "execution_count": 3
        }
      ]
    },
    {
      "cell_type": "markdown",
      "metadata": {
        "id": "0Fu8_2rXFiyf"
      },
      "source": [
        "## Extract the Scores and Texts, Rename the Columns, and View Properties of the Data"
      ]
    },
    {
      "cell_type": "code",
      "metadata": {
        "id": "_e1Vt8ZrQyc8",
        "colab": {
          "base_uri": "https://localhost:8080/",
          "height": 204
        },
        "outputId": "c70046fc-5887-4577-b030-e1e9aa3fca5f"
      },
      "source": [
        "df = data[[\"Score\",\"Text\"]]\n",
        "df.head()"
      ],
      "execution_count": 4,
      "outputs": [
        {
          "output_type": "execute_result",
          "data": {
            "text/html": [
              "<div>\n",
              "<style scoped>\n",
              "    .dataframe tbody tr th:only-of-type {\n",
              "        vertical-align: middle;\n",
              "    }\n",
              "\n",
              "    .dataframe tbody tr th {\n",
              "        vertical-align: top;\n",
              "    }\n",
              "\n",
              "    .dataframe thead th {\n",
              "        text-align: right;\n",
              "    }\n",
              "</style>\n",
              "<table border=\"1\" class=\"dataframe\">\n",
              "  <thead>\n",
              "    <tr style=\"text-align: right;\">\n",
              "      <th></th>\n",
              "      <th>Score</th>\n",
              "      <th>Text</th>\n",
              "    </tr>\n",
              "  </thead>\n",
              "  <tbody>\n",
              "    <tr>\n",
              "      <th>0</th>\n",
              "      <td>5</td>\n",
              "      <td>I have bought several of the Vitality canned d...</td>\n",
              "    </tr>\n",
              "    <tr>\n",
              "      <th>1</th>\n",
              "      <td>1</td>\n",
              "      <td>Product arrived labeled as Jumbo Salted Peanut...</td>\n",
              "    </tr>\n",
              "    <tr>\n",
              "      <th>2</th>\n",
              "      <td>4</td>\n",
              "      <td>This is a confection that has been around a fe...</td>\n",
              "    </tr>\n",
              "    <tr>\n",
              "      <th>3</th>\n",
              "      <td>2</td>\n",
              "      <td>If you are looking for the secret ingredient i...</td>\n",
              "    </tr>\n",
              "    <tr>\n",
              "      <th>4</th>\n",
              "      <td>5</td>\n",
              "      <td>Great taffy at a great price.  There was a wid...</td>\n",
              "    </tr>\n",
              "  </tbody>\n",
              "</table>\n",
              "</div>"
            ],
            "text/plain": [
              "   Score                                               Text\n",
              "0      5  I have bought several of the Vitality canned d...\n",
              "1      1  Product arrived labeled as Jumbo Salted Peanut...\n",
              "2      4  This is a confection that has been around a fe...\n",
              "3      2  If you are looking for the secret ingredient i...\n",
              "4      5  Great taffy at a great price.  There was a wid..."
            ]
          },
          "metadata": {},
          "execution_count": 4
        }
      ]
    },
    {
      "cell_type": "code",
      "metadata": {
        "id": "bUsdjEicdoj0",
        "colab": {
          "base_uri": "https://localhost:8080/",
          "height": 204
        },
        "outputId": "b1bf7af7-b99e-48a6-c8fa-b29a9586186f"
      },
      "source": [
        "reviews_df = df.rename(columns={\"Score\": \"Rating\", \"Text\": \"Review\"})\n",
        "reviews_df.head()"
      ],
      "execution_count": 5,
      "outputs": [
        {
          "output_type": "execute_result",
          "data": {
            "text/html": [
              "<div>\n",
              "<style scoped>\n",
              "    .dataframe tbody tr th:only-of-type {\n",
              "        vertical-align: middle;\n",
              "    }\n",
              "\n",
              "    .dataframe tbody tr th {\n",
              "        vertical-align: top;\n",
              "    }\n",
              "\n",
              "    .dataframe thead th {\n",
              "        text-align: right;\n",
              "    }\n",
              "</style>\n",
              "<table border=\"1\" class=\"dataframe\">\n",
              "  <thead>\n",
              "    <tr style=\"text-align: right;\">\n",
              "      <th></th>\n",
              "      <th>Rating</th>\n",
              "      <th>Review</th>\n",
              "    </tr>\n",
              "  </thead>\n",
              "  <tbody>\n",
              "    <tr>\n",
              "      <th>0</th>\n",
              "      <td>5</td>\n",
              "      <td>I have bought several of the Vitality canned d...</td>\n",
              "    </tr>\n",
              "    <tr>\n",
              "      <th>1</th>\n",
              "      <td>1</td>\n",
              "      <td>Product arrived labeled as Jumbo Salted Peanut...</td>\n",
              "    </tr>\n",
              "    <tr>\n",
              "      <th>2</th>\n",
              "      <td>4</td>\n",
              "      <td>This is a confection that has been around a fe...</td>\n",
              "    </tr>\n",
              "    <tr>\n",
              "      <th>3</th>\n",
              "      <td>2</td>\n",
              "      <td>If you are looking for the secret ingredient i...</td>\n",
              "    </tr>\n",
              "    <tr>\n",
              "      <th>4</th>\n",
              "      <td>5</td>\n",
              "      <td>Great taffy at a great price.  There was a wid...</td>\n",
              "    </tr>\n",
              "  </tbody>\n",
              "</table>\n",
              "</div>"
            ],
            "text/plain": [
              "   Rating                                             Review\n",
              "0       5  I have bought several of the Vitality canned d...\n",
              "1       1  Product arrived labeled as Jumbo Salted Peanut...\n",
              "2       4  This is a confection that has been around a fe...\n",
              "3       2  If you are looking for the secret ingredient i...\n",
              "4       5  Great taffy at a great price.  There was a wid..."
            ]
          },
          "metadata": {},
          "execution_count": 5
        }
      ]
    },
    {
      "cell_type": "code",
      "metadata": {
        "id": "axo7Kv8uRDmy",
        "colab": {
          "base_uri": "https://localhost:8080/"
        },
        "outputId": "659dfbd3-6845-4c34-d400-7fd697dbca6e"
      },
      "source": [
        "reviews_df.shape"
      ],
      "execution_count": 6,
      "outputs": [
        {
          "output_type": "execute_result",
          "data": {
            "text/plain": [
              "(568454, 2)"
            ]
          },
          "metadata": {},
          "execution_count": 6
        }
      ]
    },
    {
      "cell_type": "code",
      "metadata": {
        "id": "-PWPCmowRNkK",
        "colab": {
          "base_uri": "https://localhost:8080/"
        },
        "outputId": "69378539-357e-45a2-e896-42d8d26135f1"
      },
      "source": [
        "reviews_df.Rating.value_counts()"
      ],
      "execution_count": 7,
      "outputs": [
        {
          "output_type": "execute_result",
          "data": {
            "text/plain": [
              "5    363122\n",
              "4     80655\n",
              "1     52268\n",
              "3     42640\n",
              "2     29769\n",
              "Name: Rating, dtype: int64"
            ]
          },
          "metadata": {},
          "execution_count": 7
        }
      ]
    },
    {
      "cell_type": "markdown",
      "metadata": {
        "id": "NjxHBDw_GOAH"
      },
      "source": [
        "## Split the Data into a Training and Test Sets"
      ]
    },
    {
      "cell_type": "code",
      "metadata": {
        "id": "KmFj2lIqRNbS"
      },
      "source": [
        "# We stratify the data in order to have equal proportions of ratings in both training and test sets\n",
        "train, test = train_test_split(reviews_df, test_size = 0.2, stratify = reviews_df['Rating'], random_state=0)"
      ],
      "execution_count": 8,
      "outputs": []
    },
    {
      "cell_type": "code",
      "metadata": {
        "id": "qkIexZ3URNTK",
        "colab": {
          "base_uri": "https://localhost:8080/"
        },
        "outputId": "70879611-fafd-4b0b-90b4-1e5682ed7e56"
      },
      "source": [
        "train.shape, test.shape"
      ],
      "execution_count": 9,
      "outputs": [
        {
          "output_type": "execute_result",
          "data": {
            "text/plain": [
              "((454763, 2), (113691, 2))"
            ]
          },
          "metadata": {},
          "execution_count": 9
        }
      ]
    },
    {
      "cell_type": "code",
      "metadata": {
        "id": "q7wp90zSRNNi",
        "colab": {
          "base_uri": "https://localhost:8080/"
        },
        "outputId": "e69cef3c-8aac-4eaf-c986-de1af31b6c60"
      },
      "source": [
        "train.Rating.value_counts(normalize=True)"
      ],
      "execution_count": 10,
      "outputs": [
        {
          "output_type": "execute_result",
          "data": {
            "text/plain": [
              "5    0.638790\n",
              "4    0.141885\n",
              "1    0.091947\n",
              "3    0.075010\n",
              "2    0.052368\n",
              "Name: Rating, dtype: float64"
            ]
          },
          "metadata": {},
          "execution_count": 10
        }
      ]
    },
    {
      "cell_type": "code",
      "metadata": {
        "id": "lemljbFGRNFi",
        "colab": {
          "base_uri": "https://localhost:8080/"
        },
        "outputId": "9eb06f02-2e81-45b2-d3d3-4c4f58481ad2"
      },
      "source": [
        "test.Rating.value_counts(normalize=True)"
      ],
      "execution_count": 11,
      "outputs": [
        {
          "output_type": "execute_result",
          "data": {
            "text/plain": [
              "5    0.638784\n",
              "4    0.141885\n",
              "1    0.091951\n",
              "3    0.075010\n",
              "2    0.052370\n",
              "Name: Rating, dtype: float64"
            ]
          },
          "metadata": {},
          "execution_count": 11
        }
      ]
    },
    {
      "cell_type": "markdown",
      "metadata": {
        "id": "96HxDgUuWXEd"
      },
      "source": [
        "## Create a Term Frequency Inverse Document Frequency (TF-IDF) Vectorizer Object"
      ]
    },
    {
      "cell_type": "code",
      "metadata": {
        "id": "uqypmcoESw9h"
      },
      "source": [
        "tfidf_vectorizer = TfidfVectorizer(lowercase= True, max_features=1000, stop_words=ENGLISH_STOP_WORDS)"
      ],
      "execution_count": 12,
      "outputs": []
    },
    {
      "cell_type": "markdown",
      "metadata": {
        "id": "F5fVJ41aWg9E"
      },
      "source": [
        "## Fit Object with Training Dataset of Reviews"
      ]
    },
    {
      "cell_type": "code",
      "metadata": {
        "id": "xRvLES2FSw5p",
        "colab": {
          "base_uri": "https://localhost:8080/"
        },
        "outputId": "9f667378-df90-4d17-d5c6-51a0389d4f78"
      },
      "source": [
        "tfidf_vectorizer.fit(train.Review)"
      ],
      "execution_count": 13,
      "outputs": [
        {
          "output_type": "execute_result",
          "data": {
            "text/plain": [
              "TfidfVectorizer(analyzer='word', binary=False, decode_error='strict',\n",
              "                dtype=<class 'numpy.float64'>, encoding='utf-8',\n",
              "                input='content', lowercase=True, max_df=1.0, max_features=1000,\n",
              "                min_df=1, ngram_range=(1, 1), norm='l2', preprocessor=None,\n",
              "                smooth_idf=True,\n",
              "                stop_words=frozenset({'a', 'about', 'above', 'across', 'after',\n",
              "                                      'afterwards', 'again', 'against', 'all',\n",
              "                                      'almost', 'alone', 'along', 'already',\n",
              "                                      'also', 'although', 'always', 'am',\n",
              "                                      'among', 'amongst', 'amoungst', 'amount',\n",
              "                                      'an', 'and', 'another', 'any', 'anyhow',\n",
              "                                      'anyone', 'anything', 'anyway',\n",
              "                                      'anywhere', ...}),\n",
              "                strip_accents=None, sublinear_tf=False,\n",
              "                token_pattern='(?u)\\\\b\\\\w\\\\w+\\\\b', tokenizer=None, use_idf=True,\n",
              "                vocabulary=None)"
            ]
          },
          "metadata": {},
          "execution_count": 13
        }
      ]
    },
    {
      "cell_type": "code",
      "metadata": {
        "id": "QhwEjPwPSw2i"
      },
      "source": [
        "train_idf = tfidf_vectorizer.transform(train.Review)\n",
        "test_idf  = tfidf_vectorizer.transform(test.Review)"
      ],
      "execution_count": 14,
      "outputs": []
    },
    {
      "cell_type": "markdown",
      "metadata": {
        "id": "1LQDJre6litD"
      },
      "source": [
        "## Fitting and Prediction of the Logistic Regression Model"
      ]
    },
    {
      "cell_type": "code",
      "metadata": {
        "id": "kNgT8md9Swzq"
      },
      "source": [
        "# Create an object of the logistic regression model\n",
        "classifier = LogisticRegression(max_iter=400)"
      ],
      "execution_count": 15,
      "outputs": []
    },
    {
      "cell_type": "code",
      "metadata": {
        "id": "y52qO-nLUhHV",
        "colab": {
          "base_uri": "https://localhost:8080/"
        },
        "outputId": "4cf2d809-44c7-46f6-c40f-f95f3f4cd9bd"
      },
      "source": [
        "# Fit the model with the training dataset\n",
        "classifier.fit(train_idf, train.Rating)"
      ],
      "execution_count": 16,
      "outputs": [
        {
          "output_type": "execute_result",
          "data": {
            "text/plain": [
              "LogisticRegression(C=1.0, class_weight=None, dual=False, fit_intercept=True,\n",
              "                   intercept_scaling=1, l1_ratio=None, max_iter=400,\n",
              "                   multi_class='auto', n_jobs=None, penalty='l2',\n",
              "                   random_state=None, solver='lbfgs', tol=0.0001, verbose=0,\n",
              "                   warm_start=False)"
            ]
          },
          "metadata": {},
          "execution_count": 16
        }
      ]
    },
    {
      "cell_type": "code",
      "metadata": {
        "id": "cQahQaJ9SwuD"
      },
      "source": [
        "# predict the label on the traning dataset\n",
        "predict_train = classifier.predict(train_idf)"
      ],
      "execution_count": 17,
      "outputs": []
    },
    {
      "cell_type": "code",
      "metadata": {
        "id": "rmKL0vzjSwqb"
      },
      "source": [
        "# predict the label on the test dataset\n",
        "predict_test = classifier.predict(test_idf)"
      ],
      "execution_count": 18,
      "outputs": []
    },
    {
      "cell_type": "code",
      "metadata": {
        "id": "GolfJGgoSwjk",
        "colab": {
          "base_uri": "https://localhost:8080/"
        },
        "outputId": "ccbd0403-c6a8-4ee2-c6a9-1551acc3948a"
      },
      "source": [
        "# f1 score on train data\n",
        "# f1 = 2 * (precision * recall) / (precision + recall)\n",
        "f1_score(y_true= train.Rating, y_pred= predict_train, average='weighted')"
      ],
      "execution_count": 19,
      "outputs": [
        {
          "output_type": "execute_result",
          "data": {
            "text/plain": [
              "0.6609515386825814"
            ]
          },
          "metadata": {},
          "execution_count": 19
        }
      ]
    },
    {
      "cell_type": "code",
      "metadata": {
        "id": "XoqjoivSRMxy",
        "colab": {
          "base_uri": "https://localhost:8080/"
        },
        "outputId": "440572b1-58b2-49c8-9892-82a3c73f3e9d"
      },
      "source": [
        "# f1 score on train data\n",
        "f1_score(y_true= test.Rating, y_pred= predict_test, average='weighted')"
      ],
      "execution_count": 20,
      "outputs": [
        {
          "output_type": "execute_result",
          "data": {
            "text/plain": [
              "0.6574684352432125"
            ]
          },
          "metadata": {},
          "execution_count": 20
        }
      ]
    },
    {
      "cell_type": "markdown",
      "metadata": {
        "id": "XlJreuK9oBxT"
      },
      "source": [
        "## Set up Pipeline"
      ]
    },
    {
      "cell_type": "code",
      "metadata": {
        "id": "x-LnbeXDUxCH"
      },
      "source": [
        "# define the stages of the pipeline\n",
        "\n",
        "pipeline = Pipeline(steps= [('tfidf', TfidfVectorizer(lowercase=True,\n",
        "                                                      max_features=1000,\n",
        "                                                      stop_words= ENGLISH_STOP_WORDS)),\n",
        "                            ('model', LogisticRegression(max_iter=400))])"
      ],
      "execution_count": 21,
      "outputs": []
    },
    {
      "cell_type": "code",
      "metadata": {
        "id": "n-VbMtuOUw-a",
        "colab": {
          "base_uri": "https://localhost:8080/"
        },
        "outputId": "64424843-f8f7-4546-9f0c-a8e5fe1bbfaa"
      },
      "source": [
        "\n",
        "# fit the pipeline model with the training data  \n",
        "pipeline.fit(train.Review, train.Rating)"
      ],
      "execution_count": 22,
      "outputs": [
        {
          "output_type": "execute_result",
          "data": {
            "text/plain": [
              "Pipeline(memory=None,\n",
              "         steps=[('tfidf',\n",
              "                 TfidfVectorizer(analyzer='word', binary=False,\n",
              "                                 decode_error='strict',\n",
              "                                 dtype=<class 'numpy.float64'>,\n",
              "                                 encoding='utf-8', input='content',\n",
              "                                 lowercase=True, max_df=1.0, max_features=1000,\n",
              "                                 min_df=1, ngram_range=(1, 1), norm='l2',\n",
              "                                 preprocessor=None, smooth_idf=True,\n",
              "                                 stop_words=frozenset({'a', 'about', 'above',\n",
              "                                                       'across', 'after',\n",
              "                                                       'afterward...\n",
              "                                 strip_accents=None, sublinear_tf=False,\n",
              "                                 token_pattern='(?u)\\\\b\\\\w\\\\w+\\\\b',\n",
              "                                 tokenizer=None, use_idf=True,\n",
              "                                 vocabulary=None)),\n",
              "                ('model',\n",
              "                 LogisticRegression(C=1.0, class_weight=None, dual=False,\n",
              "                                    fit_intercept=True, intercept_scaling=1,\n",
              "                                    l1_ratio=None, max_iter=400,\n",
              "                                    multi_class='auto', n_jobs=None,\n",
              "                                    penalty='l2', random_state=None,\n",
              "                                    solver='lbfgs', tol=0.0001, verbose=0,\n",
              "                                    warm_start=False))],\n",
              "         verbose=False)"
            ]
          },
          "metadata": {},
          "execution_count": 22
        }
      ]
    },
    {
      "cell_type": "code",
      "metadata": {
        "id": "L8bsOr9GUw6z",
        "colab": {
          "base_uri": "https://localhost:8080/"
        },
        "outputId": "4a96f8ce-7955-498a-a41f-3faa382e53f5"
      },
      "source": [
        "pipeline.predict(train.Review)"
      ],
      "execution_count": 23,
      "outputs": [
        {
          "output_type": "execute_result",
          "data": {
            "text/plain": [
              "array([5, 5, 4, ..., 5, 1, 1])"
            ]
          },
          "metadata": {},
          "execution_count": 23
        }
      ]
    },
    {
      "cell_type": "markdown",
      "metadata": {
        "id": "aBFEBm2RoZ_D"
      },
      "source": [
        "## Test the Pipeline with a Actual Sample Reviews from Amazon"
      ]
    },
    {
      "cell_type": "code",
      "metadata": {
        "id": "SdphtJ-eUw3a"
      },
      "source": [
        "review1 = [\"Great taffy at a great price. There was a wide assortment of yummy taffy. Delivery was very quick. If your a taffy lover, this is a deal.\"]"
      ],
      "execution_count": 24,
      "outputs": []
    },
    {
      "cell_type": "code",
      "metadata": {
        "id": "1RfJXoS1UwyL",
        "colab": {
          "base_uri": "https://localhost:8080/"
        },
        "outputId": "94cbba02-d204-4daf-bfdb-899e822d8e41"
      },
      "source": [
        "pipeline.predict(review1)"
      ],
      "execution_count": 25,
      "outputs": [
        {
          "output_type": "execute_result",
          "data": {
            "text/plain": [
              "array([5])"
            ]
          },
          "metadata": {},
          "execution_count": 25
        }
      ]
    },
    {
      "cell_type": "code",
      "metadata": {
        "id": "rQC4GJ_FZfaG"
      },
      "source": [
        "review2 = [\"They don't. They're sent in those tear off plastic bags you find in supermarket produce sections. No padding, so they often arrived bruised. We stopped ordering them months ago for this reason :(\"]"
      ],
      "execution_count": 26,
      "outputs": []
    },
    {
      "cell_type": "code",
      "metadata": {
        "id": "kxZ6GCAVaSzz",
        "colab": {
          "base_uri": "https://localhost:8080/"
        },
        "outputId": "1a5ae44c-e4f2-4311-ce1e-75ecdc1eea06"
      },
      "source": [
        "pipeline.predict(review2)"
      ],
      "execution_count": 27,
      "outputs": [
        {
          "output_type": "execute_result",
          "data": {
            "text/plain": [
              "array([1])"
            ]
          },
          "metadata": {},
          "execution_count": 27
        }
      ]
    },
    {
      "cell_type": "code",
      "metadata": {
        "id": "oknbKhcMavQ0"
      },
      "source": [
        "review3 = [\"I'm not sure what you mean by 'what label' but the avocados I received yesterday, the label says grown in the USA..\"]"
      ],
      "execution_count": 28,
      "outputs": []
    },
    {
      "cell_type": "code",
      "metadata": {
        "id": "Elk_8ZQravMH",
        "colab": {
          "base_uri": "https://localhost:8080/"
        },
        "outputId": "c8136bbb-8608-4323-8367-75155254882c"
      },
      "source": [
        "pipeline.predict(review3)"
      ],
      "execution_count": 29,
      "outputs": [
        {
          "output_type": "execute_result",
          "data": {
            "text/plain": [
              "array([1])"
            ]
          },
          "metadata": {},
          "execution_count": 29
        }
      ]
    },
    {
      "cell_type": "code",
      "metadata": {
        "id": "aH26kOiVavIH"
      },
      "source": [
        "review4 = [\"No, not until you receive the product. We've always received fresh products.\"]"
      ],
      "execution_count": 30,
      "outputs": []
    },
    {
      "cell_type": "code",
      "metadata": {
        "id": "OIPdvP-3avCj",
        "colab": {
          "base_uri": "https://localhost:8080/"
        },
        "outputId": "135f5aa1-cf8c-4543-f07a-d908ace2ebae"
      },
      "source": [
        "pipeline.predict(review4)"
      ],
      "execution_count": 31,
      "outputs": [
        {
          "output_type": "execute_result",
          "data": {
            "text/plain": [
              "array([5])"
            ]
          },
          "metadata": {},
          "execution_count": 31
        }
      ]
    },
    {
      "cell_type": "code",
      "metadata": {
        "id": "8m1hBhbMau7z"
      },
      "source": [
        "review5 = [\"I could not understand why I was consuming vast quantities of water ( 3 liters) within one hour during the winter and without any recent exercise, until I recalled I consumed 2 oz. of this Applegate dry salami. Beware, especially if you are medically salt restricted. This Applegate item is adequate to send you to the ER for treatment of uncontrolled hypertention.\"]"
      ],
      "execution_count": 32,
      "outputs": []
    },
    {
      "cell_type": "code",
      "metadata": {
        "id": "vvwHkPLka0jb",
        "colab": {
          "base_uri": "https://localhost:8080/"
        },
        "outputId": "959add4d-f9c0-43fb-867c-05f90fb33256"
      },
      "source": [
        "pipeline.predict(review5)"
      ],
      "execution_count": 33,
      "outputs": [
        {
          "output_type": "execute_result",
          "data": {
            "text/plain": [
              "array([1])"
            ]
          },
          "metadata": {},
          "execution_count": 33
        }
      ]
    },
    {
      "cell_type": "markdown",
      "metadata": {
        "id": "V6uNWi0rou-T"
      },
      "source": [
        "## Save Pipeline Object Using the Dump Funfcion"
      ]
    },
    {
      "cell_type": "code",
      "metadata": {
        "id": "KBiFVQXJUwpT"
      },
      "source": [
        "from joblib import dump"
      ],
      "execution_count": 34,
      "outputs": []
    },
    {
      "cell_type": "code",
      "metadata": {
        "id": "52eEHaSaVvXk",
        "colab": {
          "base_uri": "https://localhost:8080/"
        },
        "outputId": "2b8e5229-3d47-4900-cef4-847e8490e644"
      },
      "source": [
        "dump(pipeline, \"amazon_reviews.joblib\")"
      ],
      "execution_count": 35,
      "outputs": [
        {
          "output_type": "execute_result",
          "data": {
            "text/plain": [
              "['amazon_reviews.joblib']"
            ]
          },
          "metadata": {},
          "execution_count": 35
        }
      ]
    },
    {
      "cell_type": "code",
      "metadata": {
        "id": "osexWNTaVvUz",
        "colab": {
          "base_uri": "https://localhost:8080/",
          "height": 419
        },
        "outputId": "0ddee93a-32d0-4d01-fed7-e22a877bcd5d"
      },
      "source": [
        "reviews_df[reviews_df.Rating == 5]"
      ],
      "execution_count": 36,
      "outputs": [
        {
          "output_type": "execute_result",
          "data": {
            "text/html": [
              "<div>\n",
              "<style scoped>\n",
              "    .dataframe tbody tr th:only-of-type {\n",
              "        vertical-align: middle;\n",
              "    }\n",
              "\n",
              "    .dataframe tbody tr th {\n",
              "        vertical-align: top;\n",
              "    }\n",
              "\n",
              "    .dataframe thead th {\n",
              "        text-align: right;\n",
              "    }\n",
              "</style>\n",
              "<table border=\"1\" class=\"dataframe\">\n",
              "  <thead>\n",
              "    <tr style=\"text-align: right;\">\n",
              "      <th></th>\n",
              "      <th>Rating</th>\n",
              "      <th>Review</th>\n",
              "    </tr>\n",
              "  </thead>\n",
              "  <tbody>\n",
              "    <tr>\n",
              "      <th>0</th>\n",
              "      <td>5</td>\n",
              "      <td>I have bought several of the Vitality canned d...</td>\n",
              "    </tr>\n",
              "    <tr>\n",
              "      <th>4</th>\n",
              "      <td>5</td>\n",
              "      <td>Great taffy at a great price.  There was a wid...</td>\n",
              "    </tr>\n",
              "    <tr>\n",
              "      <th>6</th>\n",
              "      <td>5</td>\n",
              "      <td>This saltwater taffy had great flavors and was...</td>\n",
              "    </tr>\n",
              "    <tr>\n",
              "      <th>7</th>\n",
              "      <td>5</td>\n",
              "      <td>This taffy is so good.  It is very soft and ch...</td>\n",
              "    </tr>\n",
              "    <tr>\n",
              "      <th>8</th>\n",
              "      <td>5</td>\n",
              "      <td>Right now I'm mostly just sprouting this so my...</td>\n",
              "    </tr>\n",
              "    <tr>\n",
              "      <th>...</th>\n",
              "      <td>...</td>\n",
              "      <td>...</td>\n",
              "    </tr>\n",
              "    <tr>\n",
              "      <th>568448</th>\n",
              "      <td>5</td>\n",
              "      <td>My only complaint is that there's so much of i...</td>\n",
              "    </tr>\n",
              "    <tr>\n",
              "      <th>568449</th>\n",
              "      <td>5</td>\n",
              "      <td>Great for sesame chicken..this is a good if no...</td>\n",
              "    </tr>\n",
              "    <tr>\n",
              "      <th>568451</th>\n",
              "      <td>5</td>\n",
              "      <td>These stars are small, so you can give 10-15 o...</td>\n",
              "    </tr>\n",
              "    <tr>\n",
              "      <th>568452</th>\n",
              "      <td>5</td>\n",
              "      <td>These are the BEST treats for training and rew...</td>\n",
              "    </tr>\n",
              "    <tr>\n",
              "      <th>568453</th>\n",
              "      <td>5</td>\n",
              "      <td>I am very satisfied ,product is as advertised,...</td>\n",
              "    </tr>\n",
              "  </tbody>\n",
              "</table>\n",
              "<p>363122 rows × 2 columns</p>\n",
              "</div>"
            ],
            "text/plain": [
              "        Rating                                             Review\n",
              "0            5  I have bought several of the Vitality canned d...\n",
              "4            5  Great taffy at a great price.  There was a wid...\n",
              "6            5  This saltwater taffy had great flavors and was...\n",
              "7            5  This taffy is so good.  It is very soft and ch...\n",
              "8            5  Right now I'm mostly just sprouting this so my...\n",
              "...        ...                                                ...\n",
              "568448       5  My only complaint is that there's so much of i...\n",
              "568449       5  Great for sesame chicken..this is a good if no...\n",
              "568451       5  These stars are small, so you can give 10-15 o...\n",
              "568452       5  These are the BEST treats for training and rew...\n",
              "568453       5  I am very satisfied ,product is as advertised,...\n",
              "\n",
              "[363122 rows x 2 columns]"
            ]
          },
          "metadata": {},
          "execution_count": 36
        }
      ]
    },
    {
      "cell_type": "code",
      "metadata": {
        "id": "XaqtuiasdNDc",
        "colab": {
          "base_uri": "https://localhost:8080/",
          "height": 419
        },
        "outputId": "3a92ea80-f667-4f81-8a82-05be1bab98e7"
      },
      "source": [
        "reviews_df[reviews_df.Rating == 4]"
      ],
      "execution_count": 37,
      "outputs": [
        {
          "output_type": "execute_result",
          "data": {
            "text/html": [
              "<div>\n",
              "<style scoped>\n",
              "    .dataframe tbody tr th:only-of-type {\n",
              "        vertical-align: middle;\n",
              "    }\n",
              "\n",
              "    .dataframe tbody tr th {\n",
              "        vertical-align: top;\n",
              "    }\n",
              "\n",
              "    .dataframe thead th {\n",
              "        text-align: right;\n",
              "    }\n",
              "</style>\n",
              "<table border=\"1\" class=\"dataframe\">\n",
              "  <thead>\n",
              "    <tr style=\"text-align: right;\">\n",
              "      <th></th>\n",
              "      <th>Rating</th>\n",
              "      <th>Review</th>\n",
              "    </tr>\n",
              "  </thead>\n",
              "  <tbody>\n",
              "    <tr>\n",
              "      <th>2</th>\n",
              "      <td>4</td>\n",
              "      <td>This is a confection that has been around a fe...</td>\n",
              "    </tr>\n",
              "    <tr>\n",
              "      <th>5</th>\n",
              "      <td>4</td>\n",
              "      <td>I got a wild hair for taffy and ordered this f...</td>\n",
              "    </tr>\n",
              "    <tr>\n",
              "      <th>13</th>\n",
              "      <td>4</td>\n",
              "      <td>good flavor! these came securely packed... the...</td>\n",
              "    </tr>\n",
              "    <tr>\n",
              "      <th>27</th>\n",
              "      <td>4</td>\n",
              "      <td>I was so glad Amazon carried these batteries. ...</td>\n",
              "    </tr>\n",
              "    <tr>\n",
              "      <th>32</th>\n",
              "      <td>4</td>\n",
              "      <td>McCann's Instant Oatmeal is great if you must ...</td>\n",
              "    </tr>\n",
              "    <tr>\n",
              "      <th>...</th>\n",
              "      <td>...</td>\n",
              "      <td>...</td>\n",
              "    </tr>\n",
              "    <tr>\n",
              "      <th>568400</th>\n",
              "      <td>4</td>\n",
              "      <td>These are GREAT for carrying in my purse for e...</td>\n",
              "    </tr>\n",
              "    <tr>\n",
              "      <th>568406</th>\n",
              "      <td>4</td>\n",
              "      <td>This apple butter has a great taste but the pr...</td>\n",
              "    </tr>\n",
              "    <tr>\n",
              "      <th>568417</th>\n",
              "      <td>4</td>\n",
              "      <td>This is the best brand of Mango Chutney that I...</td>\n",
              "    </tr>\n",
              "    <tr>\n",
              "      <th>568420</th>\n",
              "      <td>4</td>\n",
              "      <td>Love the coconut flavor of this tea.  Two thin...</td>\n",
              "    </tr>\n",
              "    <tr>\n",
              "      <th>568439</th>\n",
              "      <td>4</td>\n",
              "      <td>We need this for a recipe my wife is intereste...</td>\n",
              "    </tr>\n",
              "  </tbody>\n",
              "</table>\n",
              "<p>80655 rows × 2 columns</p>\n",
              "</div>"
            ],
            "text/plain": [
              "        Rating                                             Review\n",
              "2            4  This is a confection that has been around a fe...\n",
              "5            4  I got a wild hair for taffy and ordered this f...\n",
              "13           4  good flavor! these came securely packed... the...\n",
              "27           4  I was so glad Amazon carried these batteries. ...\n",
              "32           4  McCann's Instant Oatmeal is great if you must ...\n",
              "...        ...                                                ...\n",
              "568400       4  These are GREAT for carrying in my purse for e...\n",
              "568406       4  This apple butter has a great taste but the pr...\n",
              "568417       4  This is the best brand of Mango Chutney that I...\n",
              "568420       4  Love the coconut flavor of this tea.  Two thin...\n",
              "568439       4  We need this for a recipe my wife is intereste...\n",
              "\n",
              "[80655 rows x 2 columns]"
            ]
          },
          "metadata": {},
          "execution_count": 37
        }
      ]
    },
    {
      "cell_type": "code",
      "metadata": {
        "id": "adzZzzSJdM9n",
        "colab": {
          "base_uri": "https://localhost:8080/",
          "height": 419
        },
        "outputId": "b92b8bf2-85b2-4415-cdee-dfc3c18f8710"
      },
      "source": [
        "reviews_df[reviews_df.Rating == 3]"
      ],
      "execution_count": 38,
      "outputs": [
        {
          "output_type": "execute_result",
          "data": {
            "text/html": [
              "<div>\n",
              "<style scoped>\n",
              "    .dataframe tbody tr th:only-of-type {\n",
              "        vertical-align: middle;\n",
              "    }\n",
              "\n",
              "    .dataframe tbody tr th {\n",
              "        vertical-align: top;\n",
              "    }\n",
              "\n",
              "    .dataframe thead th {\n",
              "        text-align: right;\n",
              "    }\n",
              "</style>\n",
              "<table border=\"1\" class=\"dataframe\">\n",
              "  <thead>\n",
              "    <tr style=\"text-align: right;\">\n",
              "      <th></th>\n",
              "      <th>Rating</th>\n",
              "      <th>Review</th>\n",
              "    </tr>\n",
              "  </thead>\n",
              "  <tbody>\n",
              "    <tr>\n",
              "      <th>45</th>\n",
              "      <td>3</td>\n",
              "      <td>This seems a little more wholesome than some o...</td>\n",
              "    </tr>\n",
              "    <tr>\n",
              "      <th>47</th>\n",
              "      <td>3</td>\n",
              "      <td>The flavors are good.  However, I do not see a...</td>\n",
              "    </tr>\n",
              "    <tr>\n",
              "      <th>49</th>\n",
              "      <td>3</td>\n",
              "      <td>This is the same stuff you can buy at the big ...</td>\n",
              "    </tr>\n",
              "    <tr>\n",
              "      <th>53</th>\n",
              "      <td>3</td>\n",
              "      <td>we're used to spicy foods down here in south t...</td>\n",
              "    </tr>\n",
              "    <tr>\n",
              "      <th>60</th>\n",
              "      <td>3</td>\n",
              "      <td>Watch your prices with this.  While the assort...</td>\n",
              "    </tr>\n",
              "    <tr>\n",
              "      <th>...</th>\n",
              "      <td>...</td>\n",
              "      <td>...</td>\n",
              "    </tr>\n",
              "    <tr>\n",
              "      <th>568369</th>\n",
              "      <td>3</td>\n",
              "      <td>An admitted fan of Stash Earl Grey, neverthele...</td>\n",
              "    </tr>\n",
              "    <tr>\n",
              "      <th>568379</th>\n",
              "      <td>3</td>\n",
              "      <td>I hadn't tried this taco seasoning prior to pu...</td>\n",
              "    </tr>\n",
              "    <tr>\n",
              "      <th>568394</th>\n",
              "      <td>3</td>\n",
              "      <td>I picked up these honey sticks because I'm in ...</td>\n",
              "    </tr>\n",
              "    <tr>\n",
              "      <th>568401</th>\n",
              "      <td>3</td>\n",
              "      <td>It's great to have agave in a portable format....</td>\n",
              "    </tr>\n",
              "    <tr>\n",
              "      <th>568422</th>\n",
              "      <td>3</td>\n",
              "      <td>This version of Pacific Chai is pretty mild.  ...</td>\n",
              "    </tr>\n",
              "  </tbody>\n",
              "</table>\n",
              "<p>42640 rows × 2 columns</p>\n",
              "</div>"
            ],
            "text/plain": [
              "        Rating                                             Review\n",
              "45           3  This seems a little more wholesome than some o...\n",
              "47           3  The flavors are good.  However, I do not see a...\n",
              "49           3  This is the same stuff you can buy at the big ...\n",
              "53           3  we're used to spicy foods down here in south t...\n",
              "60           3  Watch your prices with this.  While the assort...\n",
              "...        ...                                                ...\n",
              "568369       3  An admitted fan of Stash Earl Grey, neverthele...\n",
              "568379       3  I hadn't tried this taco seasoning prior to pu...\n",
              "568394       3  I picked up these honey sticks because I'm in ...\n",
              "568401       3  It's great to have agave in a portable format....\n",
              "568422       3  This version of Pacific Chai is pretty mild.  ...\n",
              "\n",
              "[42640 rows x 2 columns]"
            ]
          },
          "metadata": {},
          "execution_count": 38
        }
      ]
    },
    {
      "cell_type": "code",
      "metadata": {
        "id": "MbvoZdfkdM3G",
        "colab": {
          "base_uri": "https://localhost:8080/",
          "height": 419
        },
        "outputId": "74d9e840-f3dd-4ce3-9344-638509a1f230"
      },
      "source": [
        "reviews_df[reviews_df.Rating == 2]"
      ],
      "execution_count": 39,
      "outputs": [
        {
          "output_type": "execute_result",
          "data": {
            "text/html": [
              "<div>\n",
              "<style scoped>\n",
              "    .dataframe tbody tr th:only-of-type {\n",
              "        vertical-align: middle;\n",
              "    }\n",
              "\n",
              "    .dataframe tbody tr th {\n",
              "        vertical-align: top;\n",
              "    }\n",
              "\n",
              "    .dataframe thead th {\n",
              "        text-align: right;\n",
              "    }\n",
              "</style>\n",
              "<table border=\"1\" class=\"dataframe\">\n",
              "  <thead>\n",
              "    <tr style=\"text-align: right;\">\n",
              "      <th></th>\n",
              "      <th>Rating</th>\n",
              "      <th>Review</th>\n",
              "    </tr>\n",
              "  </thead>\n",
              "  <tbody>\n",
              "    <tr>\n",
              "      <th>3</th>\n",
              "      <td>2</td>\n",
              "      <td>If you are looking for the secret ingredient i...</td>\n",
              "    </tr>\n",
              "    <tr>\n",
              "      <th>16</th>\n",
              "      <td>2</td>\n",
              "      <td>I love eating them and they are good for watch...</td>\n",
              "    </tr>\n",
              "    <tr>\n",
              "      <th>67</th>\n",
              "      <td>2</td>\n",
              "      <td>I purchased the Mango flavor, and to me it doe...</td>\n",
              "    </tr>\n",
              "    <tr>\n",
              "      <th>74</th>\n",
              "      <td>2</td>\n",
              "      <td>It is okay.  I would not go out of my way to b...</td>\n",
              "    </tr>\n",
              "    <tr>\n",
              "      <th>110</th>\n",
              "      <td>2</td>\n",
              "      <td>I was diappointed in the flavor and texture of...</td>\n",
              "    </tr>\n",
              "    <tr>\n",
              "      <th>...</th>\n",
              "      <td>...</td>\n",
              "      <td>...</td>\n",
              "    </tr>\n",
              "    <tr>\n",
              "      <th>568416</th>\n",
              "      <td>2</td>\n",
              "      <td>When I ordered this chutney, it was supposed t...</td>\n",
              "    </tr>\n",
              "    <tr>\n",
              "      <th>568434</th>\n",
              "      <td>2</td>\n",
              "      <td>This soup is mostly broth. Although it has a k...</td>\n",
              "    </tr>\n",
              "    <tr>\n",
              "      <th>568435</th>\n",
              "      <td>2</td>\n",
              "      <td>It is mostly broth, with the advertised 3/4 cu...</td>\n",
              "    </tr>\n",
              "    <tr>\n",
              "      <th>568446</th>\n",
              "      <td>2</td>\n",
              "      <td>I had ordered some of these a few months back ...</td>\n",
              "    </tr>\n",
              "    <tr>\n",
              "      <th>568450</th>\n",
              "      <td>2</td>\n",
              "      <td>I'm disappointed with the flavor. The chocolat...</td>\n",
              "    </tr>\n",
              "  </tbody>\n",
              "</table>\n",
              "<p>29769 rows × 2 columns</p>\n",
              "</div>"
            ],
            "text/plain": [
              "        Rating                                             Review\n",
              "3            2  If you are looking for the secret ingredient i...\n",
              "16           2  I love eating them and they are good for watch...\n",
              "67           2  I purchased the Mango flavor, and to me it doe...\n",
              "74           2  It is okay.  I would not go out of my way to b...\n",
              "110          2  I was diappointed in the flavor and texture of...\n",
              "...        ...                                                ...\n",
              "568416       2  When I ordered this chutney, it was supposed t...\n",
              "568434       2  This soup is mostly broth. Although it has a k...\n",
              "568435       2  It is mostly broth, with the advertised 3/4 cu...\n",
              "568446       2  I had ordered some of these a few months back ...\n",
              "568450       2  I'm disappointed with the flavor. The chocolat...\n",
              "\n",
              "[29769 rows x 2 columns]"
            ]
          },
          "metadata": {},
          "execution_count": 39
        }
      ]
    },
    {
      "cell_type": "code",
      "metadata": {
        "id": "MjmJ1VbFdMwE",
        "colab": {
          "base_uri": "https://localhost:8080/",
          "height": 419
        },
        "outputId": "9e394407-80ce-46df-e027-25fd7ee6f6f5"
      },
      "source": [
        "reviews_df[reviews_df.Rating == 1]"
      ],
      "execution_count": 40,
      "outputs": [
        {
          "output_type": "execute_result",
          "data": {
            "text/html": [
              "<div>\n",
              "<style scoped>\n",
              "    .dataframe tbody tr th:only-of-type {\n",
              "        vertical-align: middle;\n",
              "    }\n",
              "\n",
              "    .dataframe tbody tr th {\n",
              "        vertical-align: top;\n",
              "    }\n",
              "\n",
              "    .dataframe thead th {\n",
              "        text-align: right;\n",
              "    }\n",
              "</style>\n",
              "<table border=\"1\" class=\"dataframe\">\n",
              "  <thead>\n",
              "    <tr style=\"text-align: right;\">\n",
              "      <th></th>\n",
              "      <th>Rating</th>\n",
              "      <th>Review</th>\n",
              "    </tr>\n",
              "  </thead>\n",
              "  <tbody>\n",
              "    <tr>\n",
              "      <th>1</th>\n",
              "      <td>1</td>\n",
              "      <td>Product arrived labeled as Jumbo Salted Peanut...</td>\n",
              "    </tr>\n",
              "    <tr>\n",
              "      <th>12</th>\n",
              "      <td>1</td>\n",
              "      <td>My cats have been happily eating Felidae Plati...</td>\n",
              "    </tr>\n",
              "    <tr>\n",
              "      <th>26</th>\n",
              "      <td>1</td>\n",
              "      <td>The candy is just red , No flavor . Just  plan...</td>\n",
              "    </tr>\n",
              "    <tr>\n",
              "      <th>50</th>\n",
              "      <td>1</td>\n",
              "      <td>This oatmeal is not good. Its mushy, soft, I d...</td>\n",
              "    </tr>\n",
              "    <tr>\n",
              "      <th>62</th>\n",
              "      <td>1</td>\n",
              "      <td>Arrived in 6 days and were so stale i could no...</td>\n",
              "    </tr>\n",
              "    <tr>\n",
              "      <th>...</th>\n",
              "      <td>...</td>\n",
              "      <td>...</td>\n",
              "    </tr>\n",
              "    <tr>\n",
              "      <th>568402</th>\n",
              "      <td>1</td>\n",
              "      <td>I was disappointed in this product, as I had r...</td>\n",
              "    </tr>\n",
              "    <tr>\n",
              "      <th>568426</th>\n",
              "      <td>1</td>\n",
              "      <td>The candy is tasty, but they totally scam you ...</td>\n",
              "    </tr>\n",
              "    <tr>\n",
              "      <th>568431</th>\n",
              "      <td>1</td>\n",
              "      <td>Definitely not worth buying flavored water wit...</td>\n",
              "    </tr>\n",
              "    <tr>\n",
              "      <th>568432</th>\n",
              "      <td>1</td>\n",
              "      <td>I thought this soup would be more like a chill...</td>\n",
              "    </tr>\n",
              "    <tr>\n",
              "      <th>568433</th>\n",
              "      <td>1</td>\n",
              "      <td>I just bought this soup today at my local groc...</td>\n",
              "    </tr>\n",
              "  </tbody>\n",
              "</table>\n",
              "<p>52268 rows × 2 columns</p>\n",
              "</div>"
            ],
            "text/plain": [
              "        Rating                                             Review\n",
              "1            1  Product arrived labeled as Jumbo Salted Peanut...\n",
              "12           1  My cats have been happily eating Felidae Plati...\n",
              "26           1  The candy is just red , No flavor . Just  plan...\n",
              "50           1  This oatmeal is not good. Its mushy, soft, I d...\n",
              "62           1  Arrived in 6 days and were so stale i could no...\n",
              "...        ...                                                ...\n",
              "568402       1  I was disappointed in this product, as I had r...\n",
              "568426       1  The candy is tasty, but they totally scam you ...\n",
              "568431       1  Definitely not worth buying flavored water wit...\n",
              "568432       1  I thought this soup would be more like a chill...\n",
              "568433       1  I just bought this soup today at my local groc...\n",
              "\n",
              "[52268 rows x 2 columns]"
            ]
          },
          "metadata": {},
          "execution_count": 40
        }
      ]
    }
  ]
}