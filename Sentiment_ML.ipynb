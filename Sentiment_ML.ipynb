{
  "nbformat": 4,
  "nbformat_minor": 0,
  "metadata": {
    "colab": {
      "name": "Sentiment_ML.ipynb",
      "provenance": [],
      "collapsed_sections": [],
      "include_colab_link": true
    },
    "kernelspec": {
      "name": "python3",
      "display_name": "Python 3"
    },
    "language_info": {
      "name": "python"
    }
  },
  "cells": [
    {
      "cell_type": "markdown",
      "metadata": {
        "id": "view-in-github",
        "colab_type": "text"
      },
      "source": [
        "<a href=\"https://colab.research.google.com/github/yukamara/final_project/blob/main/Sentiment_ML.ipynb\" target=\"_parent\"><img src=\"https://colab.research.google.com/assets/colab-badge.svg\" alt=\"Open In Colab\"/></a>"
      ]
    },
    {
      "cell_type": "code",
      "metadata": {
        "colab": {
          "base_uri": "https://localhost:8080/"
        },
        "id": "2dogE5abD5dL",
        "outputId": "178dbdf6-5280-41b6-9b62-49e9858cbe7c"
      },
      "source": [
        "import pandas as pd \n",
        "import os\n",
        "import matplotlib.pyplot as plt\n",
        "\n",
        "\n",
        "# Find the latest version of spark 3.0  from http://www-us.apache.org/dist/spark/ and enter as the spark version\n",
        "# For example:\n",
        "# spark_version = 'spark-3.0.2'\n",
        "spark_version = 'spark-3.1.2'\n",
        "os.environ['SPARK_VERSION']=spark_version\n",
        "\n",
        "# Install Spark and Java\n",
        "!apt-get update\n",
        "!apt-get install openjdk-11-jdk-headless -qq > /dev/null\n",
        "!wget -q https://downloads.apache.org/spark/$SPARK_VERSION/$SPARK_VERSION-bin-hadoop2.7.tgz\n",
        "!tar xf $SPARK_VERSION-bin-hadoop2.7.tgz\n",
        "!pip install -q findspark\n",
        "\n",
        "# Set Environment Variables\n",
        "os.environ[\"JAVA_HOME\"] = \"/usr/lib/jvm/java-11-openjdk-amd64\"\n",
        "os.environ[\"SPARK_HOME\"] = f\"/content/{spark_version}-bin-hadoop2.7\"\n",
        "\n",
        "# Start a SparkSession\n",
        "import findspark\n",
        "findspark.init()"
      ],
      "execution_count": 1,
      "outputs": [
        {
          "output_type": "stream",
          "text": [
            "\r0% [Working]\r            \rGet:1 http://security.ubuntu.com/ubuntu bionic-security InRelease [88.7 kB]\n",
            "\r0% [Connecting to archive.ubuntu.com (91.189.88.152)] [1 InRelease 14.2 kB/88.7\r0% [Waiting for headers] [Waiting for headers] [Waiting for headers] [Waiting f\r                                                                               \rHit:2 https://cloud.r-project.org/bin/linux/ubuntu bionic-cran40/ InRelease\n",
            "Ign:3 https://developer.download.nvidia.com/compute/cuda/repos/ubuntu1804/x86_64  InRelease\n",
            "Ign:4 https://developer.download.nvidia.com/compute/machine-learning/repos/ubuntu1804/x86_64  InRelease\n",
            "Hit:5 https://developer.download.nvidia.com/compute/cuda/repos/ubuntu1804/x86_64  Release\n",
            "Hit:6 http://ppa.launchpad.net/c2d4u.team/c2d4u4.0+/ubuntu bionic InRelease\n",
            "Hit:7 http://archive.ubuntu.com/ubuntu bionic InRelease\n",
            "Hit:8 https://developer.download.nvidia.com/compute/machine-learning/repos/ubuntu1804/x86_64  Release\n",
            "Get:9 http://archive.ubuntu.com/ubuntu bionic-updates InRelease [88.7 kB]\n",
            "Hit:10 http://ppa.launchpad.net/cran/libgit2/ubuntu bionic InRelease\n",
            "Hit:11 http://ppa.launchpad.net/deadsnakes/ppa/ubuntu bionic InRelease\n",
            "Get:12 http://archive.ubuntu.com/ubuntu bionic-backports InRelease [74.6 kB]\n",
            "Hit:13 http://ppa.launchpad.net/graphics-drivers/ppa/ubuntu bionic InRelease\n",
            "Fetched 252 kB in 3s (94.8 kB/s)\n",
            "Reading package lists... Done\n"
          ],
          "name": "stdout"
        }
      ]
    },
    {
      "cell_type": "code",
      "metadata": {
        "id": "dryQCqTGEtip"
      },
      "source": [
        "from pyspark.sql import SparkSession\n",
        "spark = SparkSession.builder.appName(\"NaiveBayes\").getOrCreate()"
      ],
      "execution_count": 2,
      "outputs": []
    },
    {
      "cell_type": "code",
      "metadata": {
        "colab": {
          "base_uri": "https://localhost:8080/"
        },
        "id": "eyK_S93SFoV4",
        "outputId": "1450d192-29ad-4531-9a98-bc2ad636352d"
      },
      "source": [
        "# Read in data from S3 Buckets\n",
        "from pyspark import SparkFiles\n",
        "url =\"https://codingbootcamp2021104.s3.us-east-2.amazonaws.com/nlp_summary.csv\"\n",
        "spark.sparkContext.addFile(url)\n",
        "df = spark.read.csv(SparkFiles.get(\"nlp_summary.csv\"), sep=\",\", header=True)\n",
        "\n",
        "# Show DataFrame\n",
        "df.show()"
      ],
      "execution_count": 3,
      "outputs": [
        {
          "output_type": "stream",
          "text": [
            "+---+--------------------+--------+\n",
            "|_c0|                text|   class|\n",
            "+---+--------------------+--------+\n",
            "|  0|Good Quality Dog ...|Positive|\n",
            "|  1|   Not as Advertised|Negative|\n",
            "|  2|\"\"\"Delight\"\" says...|Positive|\n",
            "|  3|      Cough Medicine|Negative|\n",
            "|  4|         Great taffy|Positive|\n",
            "|  5|          Nice Taffy|Positive|\n",
            "|  6|Great!  Just as g...|Positive|\n",
            "|  7|Wonderful, tasty ...|Positive|\n",
            "|  8|          Yay Barley|Positive|\n",
            "|  9|    Healthy Dog Food|Positive|\n",
            "| 10|The Best Hot Sauc...|Positive|\n",
            "| 11|\"My cats LOVE thi...|Positive|\n",
            "| 12|My Cats Are Not F...|Negative|\n",
            "| 13|   fresh and greasy!|Positive|\n",
            "| 14|Strawberry Twizzl...|Positive|\n",
            "| 15|Lots of twizzlers...|Positive|\n",
            "| 16|          poor taste|Negative|\n",
            "| 17|            Love it!|Positive|\n",
            "| 18|  GREAT SWEET CANDY!|Positive|\n",
            "| 19|Home delivered tw...|Positive|\n",
            "+---+--------------------+--------+\n",
            "only showing top 20 rows\n",
            "\n"
          ],
          "name": "stdout"
        }
      ]
    },
    {
      "cell_type": "code",
      "metadata": {
        "colab": {
          "base_uri": "https://localhost:8080/"
        },
        "id": "991CtJf1iHqJ",
        "outputId": "3fdf19a7-3a15-4828-95b0-ff3a0a614afd"
      },
      "source": [
        "df.na.drop()\n",
        "print((df.count(), len(df.columns)))"
      ],
      "execution_count": 4,
      "outputs": [
        {
          "output_type": "stream",
          "text": [
            "(925, 3)\n"
          ],
          "name": "stdout"
        }
      ]
    },
    {
      "cell_type": "code",
      "metadata": {
        "colab": {
          "base_uri": "https://localhost:8080/"
        },
        "id": "AEPyHbrGFBDQ",
        "outputId": "2ea5ef6f-257a-4d71-a90f-620f1b18dc2f"
      },
      "source": [
        "from pyspark.sql.functions import length\n",
        "# Create a length column to be used as a future feature \n",
        "data_df = df.withColumn('length', length(df['text']))\n",
        "data_df.show()"
      ],
      "execution_count": 5,
      "outputs": [
        {
          "output_type": "stream",
          "text": [
            "+---+--------------------+--------+------+\n",
            "|_c0|                text|   class|length|\n",
            "+---+--------------------+--------+------+\n",
            "|  0|Good Quality Dog ...|Positive|    21|\n",
            "|  1|   Not as Advertised|Negative|    17|\n",
            "|  2|\"\"\"Delight\"\" says...|Positive|    25|\n",
            "|  3|      Cough Medicine|Negative|    14|\n",
            "|  4|         Great taffy|Positive|    11|\n",
            "|  5|          Nice Taffy|Positive|    10|\n",
            "|  6|Great!  Just as g...|Positive|    45|\n",
            "|  7|Wonderful, tasty ...|Positive|    22|\n",
            "|  8|          Yay Barley|Positive|    10|\n",
            "|  9|    Healthy Dog Food|Positive|    16|\n",
            "| 10|The Best Hot Sauc...|Positive|    31|\n",
            "| 11|\"My cats LOVE thi...|Positive|    64|\n",
            "| 12|My Cats Are Not F...|Negative|    36|\n",
            "| 13|   fresh and greasy!|Positive|    17|\n",
            "| 14|Strawberry Twizzl...|Positive|    28|\n",
            "| 15|Lots of twizzlers...|Positive|    40|\n",
            "| 16|          poor taste|Negative|    10|\n",
            "| 17|            Love it!|Positive|     8|\n",
            "| 18|  GREAT SWEET CANDY!|Positive|    18|\n",
            "| 19|Home delivered tw...|Positive|    23|\n",
            "+---+--------------------+--------+------+\n",
            "only showing top 20 rows\n",
            "\n"
          ],
          "name": "stdout"
        }
      ]
    },
    {
      "cell_type": "code",
      "metadata": {
        "id": "mCq4Tzu2FW01"
      },
      "source": [
        "from pyspark.ml.feature import Tokenizer, StopWordsRemover, HashingTF, IDF, StringIndexer\n",
        "# Create all the features to the data set\n",
        "pos_neg_to_num = StringIndexer(inputCol='class',outputCol='label')\n",
        "tokenizer = Tokenizer(inputCol=\"text\", outputCol=\"token_text\")\n",
        "stopremove = StopWordsRemover(inputCol='token_text',outputCol='stop_tokens')\n",
        "hashingTF = HashingTF(inputCol=\"stop_tokens\", outputCol='hash_token')\n",
        "idf = IDF(inputCol='hash_token', outputCol='idf_token')"
      ],
      "execution_count": 6,
      "outputs": []
    },
    {
      "cell_type": "code",
      "metadata": {
        "id": "rF1oi-RGGjNn"
      },
      "source": [
        "from pyspark.ml.feature import VectorAssembler\n",
        "from pyspark.ml.linalg import Vector\n",
        "\n",
        "# Create feature vectors\n",
        "clean_up = VectorAssembler(inputCols=['idf_token', 'length'], outputCol='features')"
      ],
      "execution_count": 7,
      "outputs": []
    },
    {
      "cell_type": "code",
      "metadata": {
        "id": "mn795S3sGkxk"
      },
      "source": [
        "# Create a and run a data processing Pipeline\n",
        "from pyspark.ml import Pipeline\n",
        "data_prep_pipeline = Pipeline(stages=[pos_neg_to_num, tokenizer, stopremove, hashingTF, idf, clean_up])"
      ],
      "execution_count": 8,
      "outputs": []
    },
    {
      "cell_type": "code",
      "metadata": {
        "id": "dfbhe56cGl-c"
      },
      "source": [
        "# Fit and transform the pipeline\n",
        "cleaner = data_prep_pipeline.fit(data_df)\n",
        "cleaned = cleaner.transform(data_df)"
      ],
      "execution_count": 9,
      "outputs": []
    },
    {
      "cell_type": "code",
      "metadata": {
        "id": "9r5QWTapGnHu",
        "colab": {
          "base_uri": "https://localhost:8080/"
        },
        "outputId": "f011d73d-68b7-479b-be9d-1ea073a240ca"
      },
      "source": [
        "\n",
        " # Show label and resulting features\n",
        "cleaned.select(['label', 'features']).show()"
      ],
      "execution_count": 10,
      "outputs": [
        {
          "output_type": "stream",
          "text": [
            "+-----+--------------------+\n",
            "|label|            features|\n",
            "+-----+--------------------+\n",
            "|  0.0|(262145,[43890,54...|\n",
            "|  1.0|(262145,[187033,2...|\n",
            "|  0.0|(262145,[10804,11...|\n",
            "|  1.0|(262145,[194543,2...|\n",
            "|  0.0|(262145,[107062,2...|\n",
            "|  0.0|(262145,[22346,10...|\n",
            "|  0.0|(262145,[19352,11...|\n",
            "|  0.0|(262145,[107062,1...|\n",
            "|  0.0|(262145,[14914,47...|\n",
            "|  0.0|(262145,[54556,12...|\n",
            "|  0.0|(262145,[47197,60...|\n",
            "|  0.0|(262145,[31739,48...|\n",
            "|  1.0|(262145,[89833,11...|\n",
            "|  0.0|(262145,[210587,2...|\n",
            "|  0.0|(262145,[33793,38...|\n",
            "|  0.0|(262145,[53803,72...|\n",
            "|  1.0|(262145,[85735,22...|\n",
            "|  0.0|(262145,[90225,18...|\n",
            "|  0.0|(262145,[48167,15...|\n",
            "|  0.0|(262145,[17893,11...|\n",
            "+-----+--------------------+\n",
            "only showing top 20 rows\n",
            "\n"
          ],
          "name": "stdout"
        }
      ]
    },
    {
      "cell_type": "code",
      "metadata": {
        "id": "4fw-PxwSOUxB"
      },
      "source": [
        "from pyspark.ml.classification import NaiveBayes\n",
        "# Break data down into a training set and a testing set\n",
        "training, testing = cleaned.randomSplit([0.7, 0.3])\n",
        "\n",
        "# Create a Naive Bayes model and fit training data\n",
        "nb = NaiveBayes()\n",
        "predictor = nb.fit(training)"
      ],
      "execution_count": 11,
      "outputs": []
    },
    {
      "cell_type": "code",
      "metadata": {
        "id": "nqA5XbKz61HU",
        "colab": {
          "base_uri": "https://localhost:8080/"
        },
        "outputId": "d861abdf-0daf-4265-8108-f344928690b2"
      },
      "source": [
        " # Tranform the model with the testing data\n",
        "test_results = predictor.transform(testing)\n",
        "test_results.show(10)\n"
      ],
      "execution_count": 12,
      "outputs": [
        {
          "output_type": "stream",
          "text": [
            "+---+--------------------+--------+------+-----+--------------------+--------------------+--------------------+--------------------+--------------------+--------------------+--------------------+----------+\n",
            "|_c0|                text|   class|length|label|          token_text|         stop_tokens|          hash_token|           idf_token|            features|       rawPrediction|         probability|prediction|\n",
            "+---+--------------------+--------+------+-----+--------------------+--------------------+--------------------+--------------------+--------------------+--------------------+--------------------+----------+\n",
            "|100|Taste wise it is ...|Positive|    30|  0.0|[taste, wise, it,...|[taste, wise, 6, ...|(262144,[93086,12...|(262144,[93086,12...|(262145,[93086,12...|[-406.45012199212...|[1.0,5.7337242376...|       0.0|\n",
            "|101|       Great Support|Positive|    13|  0.0|    [great, support]|    [great, support]|(262144,[177817,2...|(262144,[177817,2...|(262145,[177817,2...|[-133.60457804497...|[0.99999999999995...|       0.0|\n",
            "|102|               TART!|Positive|     5|  0.0|             [tart!]|             [tart!]|(262144,[247468],...|(262144,[247468],...|(262145,[247468,2...|[-93.006806633297...|[0.99992681444867...|       0.0|\n",
            "|104|Loved these Tartlets|Positive|    20|  0.0|[loved, these, ta...|   [loved, tartlets]|(262144,[216221,2...|(262144,[216221,2...|(262145,[216221,2...|[-175.54052103237...|[1.0,1.9501146981...|       0.0|\n",
            "|113|the best tea ever...|Positive|    39|  0.0|[the, best, tea, ...|[best, tea, ever....|(262144,[36797,44...|(262144,[36797,44...|(262145,[36797,44...|[-461.04174611517...|[1.0,2.6634813463...|       0.0|\n",
            "|115|       Wonderful Tea|Positive|    13|  0.0|    [wonderful, tea]|    [wonderful, tea]|(262144,[15585,36...|(262144,[15585,36...|(262145,[15585,36...|[-123.30914778446...|[1.0,1.8203229402...|       0.0|\n",
            "|116|       Great cookies|Positive|    13|  0.0|    [great, cookies]|    [great, cookies]|(262144,[14940,26...|(262144,[14940,26...|(262145,[14940,26...|[-117.58557354979...|[1.0,7.5713681906...|       0.0|\n",
            "|119|       Best Cat Food|Positive|    13|  0.0|   [best, cat, food]|   [best, cat, food]|(262144,[121133,1...|(262144,[121133,1...|(262145,[121133,1...|[-147.13751063570...|[1.0,1.3689909707...|       0.0|\n",
            "| 12|My Cats Are Not F...|Negative|    36|  1.0|[my, cats, are, n...|[cats, fans, new,...|(262144,[89833,11...|(262144,[89833,11...|(262145,[89833,11...|[-306.26011869704...|[1.0,1.1912996813...|       0.0|\n",
            "|120|         Great food.|Positive|    11|  0.0|      [great, food.]|      [great, food.]|(262144,[177381,2...|(262144,[177381,2...|(262145,[177381,2...|[-105.10275007284...|[1.0,1.5473590334...|       0.0|\n",
            "+---+--------------------+--------+------+-----+--------------------+--------------------+--------------------+--------------------+--------------------+--------------------+--------------------+----------+\n",
            "only showing top 10 rows\n",
            "\n"
          ],
          "name": "stdout"
        }
      ]
    },
    {
      "cell_type": "code",
      "metadata": {
        "id": "5Jq8tR2MAnjt",
        "colab": {
          "base_uri": "https://localhost:8080/"
        },
        "outputId": "202b3504-b45c-40a4-922b-d920e03120d6"
      },
      "source": [
        "from pyspark.sql.functions import countDistinct\n",
        "df2=test_results.select(countDistinct(\"prediction\"))\n",
        "\n",
        "df2.show()"
      ],
      "execution_count": 13,
      "outputs": [
        {
          "output_type": "stream",
          "text": [
            "+--------------------------+\n",
            "|count(DISTINCT prediction)|\n",
            "+--------------------------+\n",
            "|                         2|\n",
            "+--------------------------+\n",
            "\n"
          ],
          "name": "stdout"
        }
      ]
    },
    {
      "cell_type": "code",
      "metadata": {
        "id": "DxU5DWjy6298",
        "colab": {
          "base_uri": "https://localhost:8080/"
        },
        "outputId": "6a5f253e-4ece-435d-e7f4-3ffb73c3b576"
      },
      "source": [
        " # Use the Class Evaluator for a cleaner description\n",
        "from pyspark.ml.evaluation import MulticlassClassificationEvaluator\n",
        "\n",
        "acc_eval = MulticlassClassificationEvaluator()\n",
        "acc = acc_eval.evaluate(test_results)\n",
        "print(\"Accuracy of model at predicting reviews was: %f\" % acc)"
      ],
      "execution_count": 14,
      "outputs": [
        {
          "output_type": "stream",
          "text": [
            "Accuracy of model at predicting reviews was: 0.775230\n"
          ],
          "name": "stdout"
        }
      ]
    },
    {
      "cell_type": "code",
      "metadata": {
        "id": "vtkEchKD7U5u"
      },
      "source": [
        "test_results_pd = test_results.toPandas()"
      ],
      "execution_count": 15,
      "outputs": []
    },
    {
      "cell_type": "code",
      "metadata": {
        "id": "xiELgqolASlZ",
        "colab": {
          "base_uri": "https://localhost:8080/"
        },
        "outputId": "f8d00763-2573-4fae-8d68-e5b39e54e983"
      },
      "source": [
        "test_results_pd['prediction'].value_counts()"
      ],
      "execution_count": 16,
      "outputs": [
        {
          "output_type": "execute_result",
          "data": {
            "text/plain": [
              "0.0    293\n",
              "1.0      1\n",
              "Name: prediction, dtype: int64"
            ]
          },
          "metadata": {},
          "execution_count": 16
        }
      ]
    },
    {
      "cell_type": "code",
      "metadata": {
        "id": "wpZUsPx6Lic-",
        "colab": {
          "base_uri": "https://localhost:8080/"
        },
        "outputId": "97af4455-732c-46ee-cfcd-671b36e33c95"
      },
      "source": [
        "test_results_pd['label'].value_counts()"
      ],
      "execution_count": 17,
      "outputs": [
        {
          "output_type": "execute_result",
          "data": {
            "text/plain": [
              "0.0    247\n",
              "1.0     47\n",
              "Name: label, dtype: int64"
            ]
          },
          "metadata": {},
          "execution_count": 17
        }
      ]
    },
    {
      "cell_type": "code",
      "metadata": {
        "id": "CECHv_glLryH",
        "colab": {
          "base_uri": "https://localhost:8080/",
          "height": 265
        },
        "outputId": "e9aa7e84-d384-489e-93cd-ea4a14dffe88"
      },
      "source": [
        "#Place Holder for graph 1 \n",
        "fig1 = test_results_pd['prediction'].hist()"
      ],
      "execution_count": 18,
      "outputs": [
        {
          "output_type": "display_data",
          "data": {
            "image/png": "[encoded data removed]",
            "text/plain": [
              "<Figure size 432x288 with 1 Axes>"
            ]
          },
          "metadata": {
            "needs_background": "light"
          }
        }
      ]
    },
    {
      "cell_type": "code",
      "metadata": {
        "id": "bDC7LF0Ei5H5",
        "colab": {
          "base_uri": "https://localhost:8080/",
          "height": 185
        },
        "outputId": "9f46ec1e-8eeb-40c8-9b9d-a87ea1078bc3"
      },
      "source": [
        "# Sample Image until graph1 is complete\n",
        "fig1.savefig('fig1.pdf')"
      ],
      "execution_count": 19,
      "outputs": [
        {
          "output_type": "error",
          "ename": "AttributeError",
          "evalue": "ignored",
          "traceback": [
            "\u001b[0;31m---------------------------------------------------------------------------\u001b[0m",
            "\u001b[0;31mAttributeError\u001b[0m                            Traceback (most recent call last)",
            "\u001b[0;32m<ipython-input-19-17e03afdd181>\u001b[0m in \u001b[0;36m<module>\u001b[0;34m()\u001b[0m\n\u001b[1;32m      1\u001b[0m \u001b[0;31m# Sample Image until graph1 is complete\u001b[0m\u001b[0;34m\u001b[0m\u001b[0;34m\u001b[0m\u001b[0;34m\u001b[0m\u001b[0m\n\u001b[0;32m----> 2\u001b[0;31m \u001b[0mfig1\u001b[0m\u001b[0;34m.\u001b[0m\u001b[0msavefig\u001b[0m\u001b[0;34m(\u001b[0m\u001b[0;34m'fig1.pdf'\u001b[0m\u001b[0;34m)\u001b[0m\u001b[0;34m\u001b[0m\u001b[0;34m\u001b[0m\u001b[0m\n\u001b[0m",
            "\u001b[0;31mAttributeError\u001b[0m: 'AxesSubplot' object has no attribute 'savefig'"
          ]
        }
      ]
    },
    {
      "cell_type": "code",
      "metadata": {
        "id": "ZiIg2CEyMr9z"
      },
      "source": [
        "#Place Holder for graph 1 \n",
        "fig2 = test_results_pd['label'].hist()"
      ],
      "execution_count": null,
      "outputs": []
    },
    {
      "cell_type": "code",
      "metadata": {
        "id": "WsojC9u5i6Gs"
      },
      "source": [
        "# Sample Image until graph2 is complete\n",
        "fig2.savefig('fig2.pdf')"
      ],
      "execution_count": null,
      "outputs": []
    }
  ]
}