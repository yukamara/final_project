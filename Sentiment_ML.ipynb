{
  "nbformat": 4,
  "nbformat_minor": 0,
  "metadata": {
    "colab": {
      "name": "Untitled0.ipynb",
      "provenance": [],
      "collapsed_sections": [],
      "authorship_tag": "ABX9TyMRSqAHgf+L3XSa3ypLkiTG",
      "include_colab_link": true
    },
    "kernelspec": {
      "name": "python3",
      "display_name": "Python 3"
    },
    "language_info": {
      "name": "python"
    }
  },
  "cells": [
    {
      "cell_type": "markdown",
      "metadata": {
        "id": "view-in-github",
        "colab_type": "text"
      },
      "source": [
        "<a href=\"https://colab.research.google.com/github/yukamara/final_project/blob/main/Sentiment_ML.ipynb\" target=\"_parent\"><img src=\"https://colab.research.google.com/assets/colab-badge.svg\" alt=\"Open In Colab\"/></a>"
      ]
    },
    {
      "cell_type": "code",
      "metadata": {
        "colab": {
          "base_uri": "https://localhost:8080/"
        },
        "id": "2dogE5abD5dL",
        "outputId": "c00babda-6e82-4d15-ce87-db4bf47c7bed"
      },
      "source": [
        "import pandas as pd \n",
        "import os\n",
        "import matplotlib.pyplot as plt\n",
        "\n",
        "\n",
        "# Find the latest version of spark 3.0  from http://www-us.apache.org/dist/spark/ and enter as the spark version\n",
        "# For example:\n",
        "# spark_version = 'spark-3.0.2'\n",
        "spark_version = 'spark-3.1.2'\n",
        "os.environ['SPARK_VERSION']=spark_version\n",
        "\n",
        "# Install Spark and Java\n",
        "!apt-get update\n",
        "!apt-get install openjdk-11-jdk-headless -qq > /dev/null\n",
        "!wget -q https://downloads.apache.org/spark/$SPARK_VERSION/$SPARK_VERSION-bin-hadoop2.7.tgz\n",
        "!tar xf $SPARK_VERSION-bin-hadoop2.7.tgz\n",
        "!pip install -q findspark\n",
        "\n",
        "# Set Environment Variables\n",
        "os.environ[\"JAVA_HOME\"] = \"/usr/lib/jvm/java-11-openjdk-amd64\"\n",
        "os.environ[\"SPARK_HOME\"] = f\"/content/{spark_version}-bin-hadoop2.7\"\n",
        "\n",
        "# Start a SparkSession\n",
        "import findspark\n",
        "findspark.init()"
      ],
      "execution_count": null,
      "outputs": [
        {
          "output_type": "stream",
          "text": [
            "\r0% [Working]\r            \rHit:1 https://cloud.r-project.org/bin/linux/ubuntu bionic-cran40/ InRelease\n",
            "\r0% [Connecting to archive.ubuntu.com (91.189.88.142)] [Connecting to security.u\r0% [1 InRelease gpgv 3,626 B] [Connecting to archive.ubuntu.com (91.189.88.142)\r                                                                               \rIgn:2 https://developer.download.nvidia.com/compute/cuda/repos/ubuntu1804/x86_64  InRelease\n",
            "\r0% [1 InRelease gpgv 3,626 B] [Connecting to archive.ubuntu.com (91.189.88.142)\r                                                                               \rIgn:3 https://developer.download.nvidia.com/compute/machine-learning/repos/ubuntu1804/x86_64  InRelease\n",
            "\r0% [1 InRelease gpgv 3,626 B] [Connecting to archive.ubuntu.com (91.189.88.142)\r                                                                               \rHit:4 https://developer.download.nvidia.com/compute/cuda/repos/ubuntu1804/x86_64  Release\n",
            "\r0% [1 InRelease gpgv 3,626 B] [Connecting to archive.ubuntu.com (91.189.88.142)\r                                                                               \rHit:5 https://developer.download.nvidia.com/compute/machine-learning/repos/ubuntu1804/x86_64  Release\n",
            "Hit:6 http://security.ubuntu.com/ubuntu bionic-security InRelease\n",
            "Hit:7 http://archive.ubuntu.com/ubuntu bionic InRelease\n",
            "Hit:8 http://ppa.launchpad.net/c2d4u.team/c2d4u4.0+/ubuntu bionic InRelease\n",
            "Hit:9 http://archive.ubuntu.com/ubuntu bionic-updates InRelease\n",
            "Hit:11 http://archive.ubuntu.com/ubuntu bionic-backports InRelease\n",
            "Hit:13 http://ppa.launchpad.net/cran/libgit2/ubuntu bionic InRelease\n",
            "Hit:14 http://ppa.launchpad.net/deadsnakes/ppa/ubuntu bionic InRelease\n",
            "Hit:15 http://ppa.launchpad.net/graphics-drivers/ppa/ubuntu bionic InRelease\n",
            "Reading package lists... Done\n"
          ],
          "name": "stdout"
        }
      ]
    },
    {
      "cell_type": "code",
      "metadata": {
        "id": "dryQCqTGEtip"
      },
      "source": [
        "from pyspark.sql import SparkSession\n",
        "spark = SparkSession.builder.appName(\"NaiveBayes\").getOrCreate()"
      ],
      "execution_count": null,
      "outputs": []
    },
    {
      "cell_type": "code",
      "metadata": {
        "colab": {
          "base_uri": "https://localhost:8080/"
        },
        "id": "eyK_S93SFoV4",
        "outputId": "a2ad23ce-9a76-464c-d497-f3925ce6e19c"
      },
      "source": [
        " # Read in data from S3 Buckets\n",
        "from pyspark import SparkFiles\n",
        "url =\"https://codingbootcamp2021104.s3.us-east-2.amazonaws.com/nlp_summary.csv\"\n",
        "spark.sparkContext.addFile(url)\n",
        "df = spark.read.csv(SparkFiles.get(\"nlp_summary.csv\"), sep=\",\", header=True)\n",
        "\n",
        "# Show DataFrame\n",
        "df.show()"
      ],
      "execution_count": 82,
      "outputs": [
        {
          "output_type": "stream",
          "text": [
            "+---+--------------------+--------+\n",
            "|_c0|                text|   class|\n",
            "+---+--------------------+--------+\n",
            "|  0|Good Quality Dog ...|Positive|\n",
            "|  1|   Not as Advertised|Negative|\n",
            "|  2|\"\"\"Delight\"\" says...|Positive|\n",
            "|  3|      Cough Medicine|Negative|\n",
            "|  4|         Great taffy|Positive|\n",
            "|  5|          Nice Taffy|Positive|\n",
            "|  6|Great!  Just as g...|Positive|\n",
            "|  7|Wonderful, tasty ...|Positive|\n",
            "|  8|          Yay Barley|Positive|\n",
            "|  9|    Healthy Dog Food|Positive|\n",
            "| 10|The Best Hot Sauc...|Positive|\n",
            "| 11|\"My cats LOVE thi...|Positive|\n",
            "| 12|My Cats Are Not F...|Negative|\n",
            "| 13|   fresh and greasy!|Positive|\n",
            "| 14|Strawberry Twizzl...|Positive|\n",
            "| 15|Lots of twizzlers...|Positive|\n",
            "| 16|          poor taste|Negative|\n",
            "| 17|            Love it!|Positive|\n",
            "| 18|  GREAT SWEET CANDY!|Positive|\n",
            "| 19|Home delivered tw...|Positive|\n",
            "+---+--------------------+--------+\n",
            "only showing top 20 rows\n",
            "\n"
          ],
          "name": "stdout"
        }
      ]
    },
    {
      "cell_type": "code",
      "metadata": {
        "colab": {
          "base_uri": "https://localhost:8080/"
        },
        "id": "AEPyHbrGFBDQ",
        "outputId": "308e36f3-59c2-4b87-819a-5abb62daae2a"
      },
      "source": [
        "from pyspark.sql.functions import length\n",
        "# Create a length column to be used as a future feature \n",
        "data_df = df.withColumn('length', length(df['text']))\n",
        "data_df.show()"
      ],
      "execution_count": 83,
      "outputs": [
        {
          "output_type": "stream",
          "text": [
            "+---+--------------------+--------+------+\n",
            "|_c0|                text|   class|length|\n",
            "+---+--------------------+--------+------+\n",
            "|  0|Good Quality Dog ...|Positive|    21|\n",
            "|  1|   Not as Advertised|Negative|    17|\n",
            "|  2|\"\"\"Delight\"\" says...|Positive|    25|\n",
            "|  3|      Cough Medicine|Negative|    14|\n",
            "|  4|         Great taffy|Positive|    11|\n",
            "|  5|          Nice Taffy|Positive|    10|\n",
            "|  6|Great!  Just as g...|Positive|    45|\n",
            "|  7|Wonderful, tasty ...|Positive|    22|\n",
            "|  8|          Yay Barley|Positive|    10|\n",
            "|  9|    Healthy Dog Food|Positive|    16|\n",
            "| 10|The Best Hot Sauc...|Positive|    31|\n",
            "| 11|\"My cats LOVE thi...|Positive|    64|\n",
            "| 12|My Cats Are Not F...|Negative|    36|\n",
            "| 13|   fresh and greasy!|Positive|    17|\n",
            "| 14|Strawberry Twizzl...|Positive|    28|\n",
            "| 15|Lots of twizzlers...|Positive|    40|\n",
            "| 16|          poor taste|Negative|    10|\n",
            "| 17|            Love it!|Positive|     8|\n",
            "| 18|  GREAT SWEET CANDY!|Positive|    18|\n",
            "| 19|Home delivered tw...|Positive|    23|\n",
            "+---+--------------------+--------+------+\n",
            "only showing top 20 rows\n",
            "\n"
          ],
          "name": "stdout"
        }
      ]
    },
    {
      "cell_type": "code",
      "metadata": {
        "id": "mCq4Tzu2FW01"
      },
      "source": [
        "from pyspark.ml.feature import Tokenizer, StopWordsRemover, HashingTF, IDF, StringIndexer\n",
        "# Create all the features to the data set\n",
        "pos_neg_to_num = StringIndexer(inputCol='class',outputCol='label')\n",
        "tokenizer = Tokenizer(inputCol=\"text\", outputCol=\"token_text\")\n",
        "stopremove = StopWordsRemover(inputCol='token_text',outputCol='stop_tokens')\n",
        "hashingTF = HashingTF(inputCol=\"stop_tokens\", outputCol='hash_token')\n",
        "idf = IDF(inputCol='hash_token', outputCol='idf_token')"
      ],
      "execution_count": 84,
      "outputs": []
    },
    {
      "cell_type": "code",
      "metadata": {
        "id": "rF1oi-RGGjNn"
      },
      "source": [
        "from pyspark.ml.feature import VectorAssembler\n",
        "from pyspark.ml.linalg import Vector\n",
        "\n",
        "# Create feature vectors\n",
        "clean_up = VectorAssembler(inputCols=['idf_token', 'length'], outputCol='features')"
      ],
      "execution_count": 85,
      "outputs": []
    },
    {
      "cell_type": "code",
      "metadata": {
        "id": "mn795S3sGkxk"
      },
      "source": [
        " # Create a and run a data processing Pipeline\n",
        "from pyspark.ml import Pipeline\n",
        "data_prep_pipeline = Pipeline(stages=[pos_neg_to_num, tokenizer, stopremove, hashingTF, idf, clean_up])"
      ],
      "execution_count": 86,
      "outputs": []
    },
    {
      "cell_type": "code",
      "metadata": {
        "id": "dfbhe56cGl-c"
      },
      "source": [
        " # Fit and transform the pipeline\n",
        "cleaner = data_prep_pipeline.fit(data_df)\n",
        "cleaned = cleaner.transform(data_df)"
      ],
      "execution_count": 88,
      "outputs": []
    },
    {
      "cell_type": "code",
      "metadata": {
        "colab": {
          "base_uri": "https://localhost:8080/"
        },
        "id": "9r5QWTapGnHu",
        "outputId": "b3507995-8dd8-4419-888d-dbd24d8a36b2"
      },
      "source": [
        "\n",
        " # Show label and resulting features\n",
        "cleaned.select(['label', 'features']).show()"
      ],
      "execution_count": 89,
      "outputs": [
        {
          "output_type": "stream",
          "text": [
            "+-----+--------------------+\n",
            "|label|            features|\n",
            "+-----+--------------------+\n",
            "|  0.0|(262145,[43890,54...|\n",
            "|  1.0|(262145,[187033,2...|\n",
            "|  0.0|(262145,[10804,11...|\n",
            "|  1.0|(262145,[194543,2...|\n",
            "|  0.0|(262145,[107062,2...|\n",
            "|  0.0|(262145,[22346,10...|\n",
            "|  0.0|(262145,[19352,11...|\n",
            "|  0.0|(262145,[107062,1...|\n",
            "|  0.0|(262145,[14914,47...|\n",
            "|  0.0|(262145,[54556,12...|\n",
            "|  0.0|(262145,[47197,60...|\n",
            "|  0.0|(262145,[31739,48...|\n",
            "|  1.0|(262145,[89833,11...|\n",
            "|  0.0|(262145,[210587,2...|\n",
            "|  0.0|(262145,[33793,38...|\n",
            "|  0.0|(262145,[53803,72...|\n",
            "|  1.0|(262145,[85735,22...|\n",
            "|  0.0|(262145,[90225,18...|\n",
            "|  0.0|(262145,[48167,15...|\n",
            "|  0.0|(262145,[17893,11...|\n",
            "+-----+--------------------+\n",
            "only showing top 20 rows\n",
            "\n"
          ],
          "name": "stdout"
        }
      ]
    },
    {
      "cell_type": "code",
      "metadata": {
        "id": "4fw-PxwSOUxB"
      },
      "source": [
        "from pyspark.ml.classification import NaiveBayes\n",
        "# Break data down into a training set and a testing set\n",
        "training, testing = cleaned.randomSplit([0.7, 0.3])\n",
        "\n",
        "# Create a Naive Bayes model and fit training data\n",
        "nb = NaiveBayes()\n",
        "predictor = nb.fit(training)"
      ],
      "execution_count": 90,
      "outputs": []
    },
    {
      "cell_type": "code",
      "metadata": {
        "colab": {
          "base_uri": "https://localhost:8080/"
        },
        "id": "nqA5XbKz61HU",
        "outputId": "7f268447-0725-418d-e8ad-dbfcc6b8f1dd"
      },
      "source": [
        " # Tranform the model with the testing data\n",
        "test_results = predictor.transform(testing)\n",
        "test_results.show(10)\n"
      ],
      "execution_count": 91,
      "outputs": [
        {
          "output_type": "stream",
          "text": [
            "+---+--------------------+--------+------+-----+--------------------+--------------------+--------------------+--------------------+--------------------+--------------------+--------------------+----------+\n",
            "|_c0|                text|   class|length|label|          token_text|         stop_tokens|          hash_token|           idf_token|            features|       rawPrediction|         probability|prediction|\n",
            "+---+--------------------+--------+------+-----+--------------------+--------------------+--------------------+--------------------+--------------------+--------------------+--------------------+----------+\n",
            "| 10|The Best Hot Sauc...|Positive|    31|  0.0|[the, best, hot, ...|[best, hot, sauce...|(262144,[47197,60...|(262144,[47197,60...|(262145,[47197,60...|[-253.58518294893...|[1.0,4.3940275513...|       0.0|\n",
            "|100|Taste wise it is ...|Positive|    30|  0.0|[taste, wise, it,...|[taste, wise, 6, ...|(262144,[93086,12...|(262144,[93086,12...|(262145,[93086,12...|[-406.49366492167...|[1.0,2.7236301560...|       0.0|\n",
            "|101|       Great Support|Positive|    13|  0.0|    [great, support]|    [great, support]|(262144,[177817,2...|(262144,[177817,2...|(262145,[177817,2...|[-133.39112806809...|[0.99999999999997...|       0.0|\n",
            "|104|Loved these Tartlets|Positive|    20|  0.0|[loved, these, ta...|   [loved, tartlets]|(262144,[216221,2...|(262144,[216221,2...|(262145,[216221,2...|[-171.91042529868...|[1.0,3.3744413254...|       0.0|\n",
            "|112|My every day gree...|Positive|    22|  0.0|[my, every, day, ...|[every, day, gree...|(262144,[36797,15...|(262144,[36797,15...|(262145,[36797,15...|[-282.36823734759...|[1.0,6.7503368301...|       0.0|\n",
            "|114|          Tea review|Positive|    10|  0.0|       [tea, review]|       [tea, review]|(262144,[36797,17...|(262144,[36797,17...|(262145,[36797,17...|[-118.92813698243...|[0.99999999999999...|       0.0|\n",
            "|115|       Wonderful Tea|Positive|    13|  0.0|    [wonderful, tea]|    [wonderful, tea]|(262144,[15585,36...|(262144,[15585,36...|(262145,[15585,36...|[-118.18882572189...|[1.0,2.6193781446...|       0.0|\n",
            "|118|      So Far So Good|Positive|    14|  0.0| [so, far, so, good]|         [far, good]|(262144,[113432,1...|(262144,[113432,1...|(262145,[113432,1...|[-116.05771046630...|[1.0,6.4293812615...|       0.0|\n",
            "|119|       Best Cat Food|Positive|    13|  0.0|   [best, cat, food]|   [best, cat, food]|(262144,[121133,1...|(262144,[121133,1...|(262145,[121133,1...|[-142.78700559739...|[1.0,3.0589335616...|       0.0|\n",
            "|120|         Great food.|Positive|    11|  0.0|      [great, food.]|      [great, food.]|(262144,[177381,2...|(262144,[177381,2...|(262145,[177381,2...|[-104.92680225148...|[1.0,1.0277421403...|       0.0|\n",
            "+---+--------------------+--------+------+-----+--------------------+--------------------+--------------------+--------------------+--------------------+--------------------+--------------------+----------+\n",
            "only showing top 10 rows\n",
            "\n"
          ],
          "name": "stdout"
        }
      ]
    },
    {
      "cell_type": "code",
      "metadata": {
        "colab": {
          "base_uri": "https://localhost:8080/"
        },
        "id": "5Jq8tR2MAnjt",
        "outputId": "fc45efc7-4aac-456a-f03f-4af0b73f7198"
      },
      "source": [
        "from pyspark.sql.functions import countDistinct\n",
        "df2=test_results.select(countDistinct(\"prediction\"))\n",
        "\n",
        "df2.show()"
      ],
      "execution_count": 92,
      "outputs": [
        {
          "output_type": "stream",
          "text": [
            "+--------------------------+\n",
            "|count(DISTINCT prediction)|\n",
            "+--------------------------+\n",
            "|                         2|\n",
            "+--------------------------+\n",
            "\n"
          ],
          "name": "stdout"
        }
      ]
    },
    {
      "cell_type": "code",
      "metadata": {
        "colab": {
          "base_uri": "https://localhost:8080/"
        },
        "id": "DxU5DWjy6298",
        "outputId": "ddc9ef3a-f34e-4c5b-a0d3-f278ebc88ca8"
      },
      "source": [
        " # Use the Class Evaluator for a cleaner description\n",
        "from pyspark.ml.evaluation import MulticlassClassificationEvaluator\n",
        "\n",
        "acc_eval = MulticlassClassificationEvaluator()\n",
        "acc = acc_eval.evaluate(test_results)\n",
        "print(\"Accuracy of model at predicting reviews was: %f\" % acc)"
      ],
      "execution_count": 93,
      "outputs": [
        {
          "output_type": "stream",
          "text": [
            "Accuracy of model at predicting reviews was: 0.766804\n"
          ],
          "name": "stdout"
        }
      ]
    },
    {
      "cell_type": "code",
      "metadata": {
        "id": "vtkEchKD7U5u"
      },
      "source": [
        "test_results_pd = test_results.toPandas()"
      ],
      "execution_count": 94,
      "outputs": []
    },
    {
      "cell_type": "code",
      "metadata": {
        "colab": {
          "base_uri": "https://localhost:8080/"
        },
        "id": "xiELgqolASlZ",
        "outputId": "afac9a72-75ab-4eb5-cb3b-95a6157a74fa"
      },
      "source": [
        "test_results_pd['prediction'].value_counts()"
      ],
      "execution_count": 95,
      "outputs": [
        {
          "output_type": "execute_result",
          "data": {
            "text/plain": [
              "0.0    301\n",
              "1.0      1\n",
              "Name: prediction, dtype: int64"
            ]
          },
          "metadata": {},
          "execution_count": 95
        }
      ]
    },
    {
      "cell_type": "code",
      "metadata": {
        "colab": {
          "base_uri": "https://localhost:8080/"
        },
        "id": "wpZUsPx6Lic-",
        "outputId": "0a947a5b-c114-4b6e-bc95-eb206a98812e"
      },
      "source": [
        "test_results_pd['label'].value_counts()"
      ],
      "execution_count": 96,
      "outputs": [
        {
          "output_type": "execute_result",
          "data": {
            "text/plain": [
              "0.0    254\n",
              "1.0     48\n",
              "Name: label, dtype: int64"
            ]
          },
          "metadata": {},
          "execution_count": 96
        }
      ]
    },
    {
      "cell_type": "code",
      "metadata": {
        "colab": {
          "base_uri": "https://localhost:8080/",
          "height": 487
        },
        "id": "CECHv_glLryH",
        "outputId": "80a7efc0-12e6-4064-d179-147f2900f333"
      },
      "source": [
        "#Place Holder for graph 1 \n",
        "fig1 = test_results_pd['prediction'].hist()"
      ],
      "execution_count": null,
      "outputs": [
        {
          "output_type": "display_data",
          "data": {
            "text/html": [
              "        <script type=\"text/javascript\">\n",
              "        window.PlotlyConfig = {MathJaxConfig: 'local'};\n",
              "        if (window.MathJax) {MathJax.Hub.Config({SVG: {font: \"STIX-Web\"}});}\n",
              "        if (typeof require !== 'undefined') {\n",
              "        require.undef(\"plotly\");\n",
              "        requirejs.config({\n",
              "            paths: {\n",
              "                'plotly': ['https://cdn.plot.ly/plotly-latest.min']\n",
              "            }\n",
              "        });\n",
              "        require(['plotly'], function(Plotly) {\n",
              "            window._Plotly = Plotly;\n",
              "        });\n",
              "        }\n",
              "        </script>\n",
              "        "
            ]
          },
          "metadata": {}
        },
        {
          "output_type": "error",
          "ename": "AttributeError",
          "evalue": "ignored",
          "traceback": [
            "\u001b[0;31m---------------------------------------------------------------------------\u001b[0m",
            "\u001b[0;31mAttributeError\u001b[0m                            Traceback (most recent call last)",
            "\u001b[0;32m<ipython-input-52-ce4a546ef873>\u001b[0m in \u001b[0;36m<module>\u001b[0;34m()\u001b[0m\n\u001b[1;32m     11\u001b[0m \u001b[0;34m\u001b[0m\u001b[0m\n\u001b[1;32m     12\u001b[0m \u001b[0mfig\u001b[0m \u001b[0;34m=\u001b[0m \u001b[0mtest_results_pd\u001b[0m\u001b[0;34m[\u001b[0m\u001b[0;34m'prediction'\u001b[0m\u001b[0;34m]\u001b[0m\u001b[0;34m.\u001b[0m\u001b[0mhist\u001b[0m\u001b[0;34m(\u001b[0m\u001b[0;34m)\u001b[0m\u001b[0;34m\u001b[0m\u001b[0;34m\u001b[0m\u001b[0m\n\u001b[0;32m---> 13\u001b[0;31m fig.update_traces(marker_color=\"turquoise\",marker_line_color='rgb(8,48,107)',\n\u001b[0m\u001b[1;32m     14\u001b[0m                   marker_line_width=1.5)\n\u001b[1;32m     15\u001b[0m \u001b[0mfig\u001b[0m\u001b[0;34m.\u001b[0m\u001b[0mupdate_layout\u001b[0m\u001b[0;34m(\u001b[0m\u001b[0mtitle_text\u001b[0m\u001b[0;34m=\u001b[0m\u001b[0;34m'Product Score Count'\u001b[0m\u001b[0;34m)\u001b[0m\u001b[0;34m\u001b[0m\u001b[0;34m\u001b[0m\u001b[0m\n",
            "\u001b[0;31mAttributeError\u001b[0m: 'AxesSubplot' object has no attribute 'update_traces'"
          ]
        },
        {
          "output_type": "display_data",
          "data": {
            "image/png": "[encoded data removed]",
            "text/plain": [
              "<Figure size 432x288 with 1 Axes>"
            ]
          },
          "metadata": {
            "needs_background": "light"
          }
        }
      ]
    },
    {
      "cell_type": "code",
      "metadata": {
        "id": "bDC7LF0Ei5H5"
      },
      "source": [
        "# Sample Image until graph1 is complete\n",
        "fig1.savefig('fig1.pdf')"
      ],
      "execution_count": null,
      "outputs": []
    },
    {
      "cell_type": "code",
      "metadata": {
        "id": "ZiIg2CEyMr9z"
      },
      "source": [
        "#Place Holder for graph 1 \n",
        "fig2 = test_results_pd['label'].hist()"
      ],
      "execution_count": null,
      "outputs": []
    },
    {
      "cell_type": "code",
      "metadata": {
        "id": "WsojC9u5i6Gs"
      },
      "source": [
        "# Sample Image until graph2 is complete\n",
        "fig2.savefig('fig2.pdf')"
      ],
      "execution_count": null,
      "outputs": []
    }
  ]
}