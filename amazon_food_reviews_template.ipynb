{
  "nbformat": 4,
  "nbformat_minor": 0,
  "metadata": {
    "colab": {
      "name": "amazon_food_reviews_template.ipynb",
      "provenance": [],
      "collapsed_sections": []
    },
    "kernelspec": {
      "name": "python3",
      "display_name": "Python 3"
    },
    "language_info": {
      "name": "python"
    }
  },
  "cells": [
    {
      "cell_type": "code",
      "metadata": {
        "colab": {
          "base_uri": "https://localhost:8080/"
        },
        "id": "eEqQFvBzGSG6",
        "outputId": "a9521db1-3a55-4fae-eb26-b08f29ca3499"
      },
      "source": [
        "import os\n",
        "# Find the latest version of spark 3.0  from http://www-us.apache.org/dist/spark/ and enter as the spark version\n",
        "# For example:\n",
        "# spark_version = 'spark-3.0.2'\n",
        "spark_version = 'spark-3.1.2'\n",
        "os.environ['SPARK_VERSION']=spark_version\n",
        "\n",
        "# Install Spark and Java\n",
        "!apt-get update\n",
        "!apt-get install openjdk-11-jdk-headless -qq > /dev/null\n",
        "!wget -q https://downloads.apache.org/spark/$SPARK_VERSION/$SPARK_VERSION-bin-hadoop2.7.tgz\n",
        "!tar xf $SPARK_VERSION-bin-hadoop2.7.tgz\n",
        "!pip install -q findspark\n",
        "\n",
        "# Set Environment Variables\n",
        "os.environ[\"JAVA_HOME\"] = \"/usr/lib/jvm/java-11-openjdk-amd64\"\n",
        "os.environ[\"SPARK_HOME\"] = f\"/content/{spark_version}-bin-hadoop2.7\"\n",
        "\n",
        "# Start a SparkSession\n",
        "import findspark\n",
        "findspark.init()"
      ],
      "execution_count": 44,
      "outputs": [
        {
          "output_type": "stream",
          "text": [
            "\r0% [Working]\r            \rHit:1 http://security.ubuntu.com/ubuntu bionic-security InRelease\n",
            "\r0% [Connecting to archive.ubuntu.com (91.189.88.142)] [Connected to cloud.r-pro\r0% [1 InRelease gpgv 88.7 kB] [Connecting to archive.ubuntu.com (91.189.88.142)\r                                                                               \rHit:2 https://cloud.r-project.org/bin/linux/ubuntu bionic-cran40/ InRelease\n",
            "Ign:3 https://developer.download.nvidia.com/compute/cuda/repos/ubuntu1804/x86_64  InRelease\n",
            "Hit:4 http://ppa.launchpad.net/c2d4u.team/c2d4u4.0+/ubuntu bionic InRelease\n",
            "Ign:5 https://developer.download.nvidia.com/compute/machine-learning/repos/ubuntu1804/x86_64  InRelease\n",
            "Hit:6 https://developer.download.nvidia.com/compute/cuda/repos/ubuntu1804/x86_64  Release\n",
            "Hit:7 https://developer.download.nvidia.com/compute/machine-learning/repos/ubuntu1804/x86_64  Release\n",
            "Hit:8 http://archive.ubuntu.com/ubuntu bionic InRelease\n",
            "Hit:9 http://archive.ubuntu.com/ubuntu bionic-updates InRelease\n",
            "Hit:10 http://ppa.launchpad.net/cran/libgit2/ubuntu bionic InRelease\n",
            "Hit:11 http://archive.ubuntu.com/ubuntu bionic-backports InRelease\n",
            "Hit:12 http://ppa.launchpad.net/deadsnakes/ppa/ubuntu bionic InRelease\n",
            "Hit:13 http://ppa.launchpad.net/graphics-drivers/ppa/ubuntu bionic InRelease\n",
            "Reading package lists... Done\n"
          ],
          "name": "stdout"
        }
      ]
    },
    {
      "cell_type": "code",
      "metadata": {
        "id": "xAOtGSDIGYYa"
      },
      "source": [
        "# Start Spark session\n",
        "from pyspark.sql import SparkSession\n",
        "spark = SparkSession.builder.appName(\"NaiveBayes\").getOrCreate()"
      ],
      "execution_count": 45,
      "outputs": []
    },
    {
      "cell_type": "code",
      "metadata": {
        "colab": {
          "base_uri": "https://localhost:8080/"
        },
        "id": "slkuYQDzGYqU",
        "outputId": "4740c489-40b4-4bc9-c167-a1c584a6e1cb"
      },
      "source": [
        "# Read in data from S3 Buckets\n",
        "from pyspark import SparkFiles\n",
        "url =\"https://data-bootcamp-x399.s3.us-east-2.amazonaws.com/Reviews.csv\"\n",
        "spark.sparkContext.addFile(url)\n",
        "df = spark.read.csv(SparkFiles.get(\"Reviews.csv\"), sep=\",\", header=True)\n",
        "\n",
        "# Show DataFrame\n",
        "df.show(truncate=False)"
      ],
      "execution_count": 46,
      "outputs": [
        {
          "output_type": "stream",
          "text": [
            "+---+----------+--------------+-----------------------------------+--------------------+----------------------+-----+----------+----------------------------------------------------------------+-----------------------------------------------------------------------------------------------------------------------------------------------------------------------------------------------------------------------------------------------------------------------------------------------------------------------------------------------------------------------------------------------------------------------------------------------------------------------------------------------------------------------------------------------------------------------------------------------------------------------------------------------------------------------------------------------------------------------------------------------------------------------------------------------------------+\n",
            "|Id |ProductId |UserId        |ProfileName                        |HelpfulnessNumerator|HelpfulnessDenominator|Score|Time      |Summary                                                         |Text                                                                                                                                                                                                                                                                                                                                                                                                                                                                                                                                                                                                                                                                                                                                                                                                       |\n",
            "+---+----------+--------------+-----------------------------------+--------------------+----------------------+-----+----------+----------------------------------------------------------------+-----------------------------------------------------------------------------------------------------------------------------------------------------------------------------------------------------------------------------------------------------------------------------------------------------------------------------------------------------------------------------------------------------------------------------------------------------------------------------------------------------------------------------------------------------------------------------------------------------------------------------------------------------------------------------------------------------------------------------------------------------------------------------------------------------------+\n",
            "|1  |B001E4KFG0|A3SGXH7AUHU8GW|delmartian                         |1                   |1                     |5    |1303862400|Good Quality Dog Food                                           |I have bought several of the Vitality canned dog food products and have found them all to be of good quality. The product looks more like a stew than a processed meat and it smells better. My Labrador is finicky and she appreciates this product better than  most.                                                                                                                                                                                                                                                                                                                                                                                                                                                                                                                                    |\n",
            "|2  |B00813GRG4|A1D87F6ZCVE5NK|dll pa                             |0                   |0                     |1    |1346976000|Not as Advertised                                               |\"Product arrived labeled as Jumbo Salted Peanuts...the peanuts were actually small sized unsalted. Not sure if this was an error or if the vendor intended to represent the product as \"\"Jumbo\"\".\"                                                                                                                                                                                                                                                                                                                                                                                                                                                                                                                                                                                                         |\n",
            "|3  |B000LQOCH0|ABXLMWJIXXAIN |\"Natalia Corres \"\"Natalia Corres\"\"\"|1                   |1                     |4    |1219017600|\"\"\"Delight\"\" says it all\"                                       |\"This is a confection that has been around a few centuries.  It is a light, pillowy citrus gelatin with nuts - in this case Filberts. And it is cut into tiny squares and then liberally coated with powdered sugar.  And it is a tiny mouthful of heaven.  Not too chewy, and very flavorful.  I highly recommend this yummy treat.  If you are familiar with the story of C.S. Lewis' \"\"The Lion                                                                                                                                                                                                                                                                                                                                                                                                         |\n",
            "|4  |B000UA0QIQ|A395BORC6FGVXV|Karl                               |3                   |3                     |2    |1307923200|Cough Medicine                                                  |If you are looking for the secret ingredient in Robitussin I believe I have found it.  I got this in addition to the Root Beer Extract I ordered (which was good) and made some cherry soda.  The flavor is very medicinal.                                                                                                                                                                                                                                                                                                                                                                                                                                                                                                                                                                                |\n",
            "|5  |B006K2ZZ7K|A1UQRSCLF8GW1T|\"Michael D. Bigham \"\"M. Wassir\"\"\"  |0                   |0                     |5    |1350777600|Great taffy                                                     |Great taffy at a great price.  There was a wide assortment of yummy taffy.  Delivery was very quick.  If your a taffy lover, this is a deal.                                                                                                                                                                                                                                                                                                                                                                                                                                                                                                                                                                                                                                                               |\n",
            "|6  |B006K2ZZ7K|ADT0SRK1MGOEU |Twoapennything                     |0                   |0                     |4    |1342051200|Nice Taffy                                                      |I got a wild hair for taffy and ordered this five pound bag. The taffy was all very enjoyable with many flavors: watermelon, root beer, melon, peppermint, grape, etc. My only complaint is there was a bit too much red/black licorice-flavored pieces (just not my particular favorites). Between me, my kids, and my husband, this lasted only two weeks! I would recommend this brand of taffy -- it was a delightful treat.                                                                                                                                                                                                                                                                                                                                                                           |\n",
            "|7  |B006K2ZZ7K|A1SP2KVKFXXRU1|David C. Sullivan                  |0                   |0                     |5    |1340150400|Great!  Just as good as the expensive brands!                   |This saltwater taffy had great flavors and was very soft and chewy.  Each candy was individually wrapped well.  None of the candies were stuck together, which did happen in the expensive version, Fralinger's.  Would highly recommend this candy!  I served it at a beach-themed party and everyone loved it!                                                                                                                                                                                                                                                                                                                                                                                                                                                                                           |\n",
            "|8  |B006K2ZZ7K|A3JRGQVEQN31IQ|Pamela G. Williams                 |0                   |0                     |5    |1336003200|Wonderful, tasty taffy                                          |This taffy is so good.  It is very soft and chewy.  The flavors are amazing.  I would definitely recommend you buying it.  Very satisfying!!                                                                                                                                                                                                                                                                                                                                                                                                                                                                                                                                                                                                                                                               |\n",
            "|9  |B000E7L2R4|A1MZYO9TZK0BBI|R. James                           |1                   |1                     |5    |1322006400|Yay Barley                                                      |Right now I'm mostly just sprouting this so my cats can eat the grass. They love it. I rotate it around with Wheatgrass and Rye too                                                                                                                                                                                                                                                                                                                                                                                                                                                                                                                                                                                                                                                                        |\n",
            "|10 |B00171APVA|A21BT40VZCCYT4|Carol A. Reed                      |0                   |0                     |5    |1351209600|Healthy Dog Food                                                |This is a very healthy dog food. Good for their digestion. Also good for small puppies. My dog eats her required amount at every feeding.                                                                                                                                                                                                                                                                                                                                                                                                                                                                                                                                                                                                                                                                  |\n",
            "|11 |B0001PB9FE|A3HDKO7OW0QNK4|Canadian Fan                       |1                   |1                     |5    |1107820800|The Best Hot Sauce in the World                                 |I don't know if it's the cactus or the tequila or just the unique combination of ingredients, but the flavour of this hot sauce makes it one of a kind!  We picked up a bottle once on a trip we were on and brought it back home with us and were totally blown away!  When we realized that we simply couldn't find it anywhere in our city we were bummed.<br /><br />Now, because of the magic of the internet, we have a case of the sauce and are ecstatic because of it.<br /><br />If you love hot sauce..I mean really love hot sauce, but don't want a sauce that tastelessly burns your throat, grab a bottle of Tequila Picante Gourmet de Inclan.  Just realize that once you taste it, you will never want to use any other sauce.<br /><br />Thank you for the personal, incredible service!|\n",
            "|12 |B0009XLVG0|A2725IB4YY9JEB|\"A Poeng \"\"SparkyGoHome\"\"\"         |4                   |4                     |5    |1282867200|\"My cats LOVE this \"\"diet\"\" food better than their regular food\"|One of my boys needed to lose some weight and the other didn't.  I put this food on the floor for the chubby guy, and the protein-rich, no by-product food up higher where only my skinny boy can jump.  The higher food sits going stale.  They both really go for this food.  And my chubby boy has been losing about an ounce a week.                                                                                                                                                                                                                                                                                                                                                                                                                                                                   |\n",
            "|13 |B0009XLVG0|A327PCT23YH90 |LT                                 |1                   |1                     |1    |1339545600|My Cats Are Not Fans of the New Food                            |My cats have been happily eating Felidae Platinum for more than two years. I just got a new bag and the shape of the food is different. They tried the new food when I first put it in their bowls and now the bowls sit full and the kitties will not touch the food. I've noticed similar reviews related to formula changes in the past. Unfortunately, I now need to find a new food that my cats will eat.                                                                                                                                                                                                                                                                                                                                                                                            |\n",
            "|14 |B001GVISJM|A18ECVX2RJ7HUE|\"willie \"\"roadie\"\"\"                |2                   |2                     |4    |1288915200|fresh and greasy!                                               |good flavor! these came securely packed... they were fresh and delicious! i love these Twizzlers!                                                                                                                                                                                                                                                                                                                                                                                                                                                                                                                                                                                                                                                                                                          |\n",
            "|15 |B001GVISJM|A2MUGFV2TDQ47K|\"Lynrie \"\"Oh HELL no\"\"\"            |4                   |5                     |5    |1268352000|Strawberry Twizzlers - Yummy                                    |The Strawberry Twizzlers are my guilty pleasure - yummy. Six pounds will be around for a while with my son and I.                                                                                                                                                                                                                                                                                                                                                                                                                                                                                                                                                                                                                                                                                          |\n",
            "|16 |B001GVISJM|A1CZX3CP8IKQIJ|Brian A. Lee                       |4                   |5                     |5    |1262044800|Lots of twizzlers, just what you expect.                        |My daughter loves twizzlers and this shipment of six pounds really hit the spot. It's exactly what you would expect...six packages of strawberry twizzlers.                                                                                                                                                                                                                                                                                                                                                                                                                                                                                                                                                                                                                                                |\n",
            "|17 |B001GVISJM|A3KLWF6WQ5BNYO|Erica Neathery                     |0                   |0                     |2    |1348099200|poor taste                                                      |I love eating them and they are good for watching TV and looking at movies! It is not too sweet. I like to transfer them to a zip lock baggie so they stay fresh so I can take my time eating them.                                                                                                                                                                                                                                                                                                                                                                                                                                                                                                                                                                                                        |\n",
            "|18 |B001GVISJM|AFKW14U97Z6QO |Becca                              |0                   |0                     |5    |1345075200|Love it!                                                        |I am very satisfied with my Twizzler purchase.  I shared these with others and we have all enjoyed them.  I will definitely be ordering more.                                                                                                                                                                                                                                                                                                                                                                                                                                                                                                                                                                                                                                                              |\n",
            "|19 |B001GVISJM|A2A9X58G2GTBLP|Wolfee1                            |0                   |0                     |5    |1324598400|GREAT SWEET CANDY!                                              |Twizzlers, Strawberry my childhood favorite candy, made in Lancaster Pennsylvania by Y & S Candies, Inc. one of the oldest confectionery Firms in the United States, now a Subsidiary of the Hershey Company, the Company was established in 1845 as Young and Smylie, they also make Apple Licorice Twists, Green Color and Blue Raspberry Licorice Twists, I like them all<br /><br />I keep it in a dry cool place because is not recommended it to put it in the fridge. According to the Guinness Book of Records, the longest Licorice Twist ever made measured 1.200 Feet (370 M) and weighted 100 Pounds (45 Kg) and was made by Y & S Candies, Inc. This Record-Breaking Twist became a Guinness World Record on July 19, 1998. This Product is Kosher! Thank You                                 |\n",
            "|20 |B001GVISJM|A3IV7CL2C13K2U|Greg                               |0                   |0                     |5    |1318032000|Home delivered twizlers                                         |Candy was delivered very fast and was purchased at a reasonable price.  I was home bound and unable to get to a store so this was perfect for me.                                                                                                                                                                                                                                                                                                                                                                                                                                                                                                                                                                                                                                                          |\n",
            "+---+----------+--------------+-----------------------------------+--------------------+----------------------+-----+----------+----------------------------------------------------------------+-----------------------------------------------------------------------------------------------------------------------------------------------------------------------------------------------------------------------------------------------------------------------------------------------------------------------------------------------------------------------------------------------------------------------------------------------------------------------------------------------------------------------------------------------------------------------------------------------------------------------------------------------------------------------------------------------------------------------------------------------------------------------------------------------------------+\n",
            "only showing top 20 rows\n",
            "\n"
          ],
          "name": "stdout"
        }
      ]
    },
    {
      "cell_type": "markdown",
      "metadata": {
        "id": "z7UR1zTtfclo"
      },
      "source": [
        "## Transform DataFrame to fit Review-Score Table"
      ]
    },
    {
      "cell_type": "code",
      "metadata": {
        "colab": {
          "base_uri": "https://localhost:8080/"
        },
        "id": "pbyCE6D6gELf",
        "outputId": "0d146c51-b280-42a8-e8c7-8309f8c4cb12"
      },
      "source": [
        "df = df.select(['Score', 'Text'])\n",
        "\n",
        "df.show()"
      ],
      "execution_count": 47,
      "outputs": [
        {
          "output_type": "stream",
          "text": [
            "+-----+--------------------+\n",
            "|Score|                Text|\n",
            "+-----+--------------------+\n",
            "|    5|I have bought sev...|\n",
            "|    1|\"Product arrived ...|\n",
            "|    4|\"This is a confec...|\n",
            "|    2|If you are lookin...|\n",
            "|    5|Great taffy at a ...|\n",
            "|    4|I got a wild hair...|\n",
            "|    5|This saltwater ta...|\n",
            "|    5|This taffy is so ...|\n",
            "|    5|Right now I'm mos...|\n",
            "|    5|This is a very he...|\n",
            "|    5|I don't know if i...|\n",
            "|    5|One of my boys ne...|\n",
            "|    1|My cats have been...|\n",
            "|    4|good flavor! thes...|\n",
            "|    5|The Strawberry Tw...|\n",
            "|    5|My daughter loves...|\n",
            "|    2|I love eating the...|\n",
            "|    5|I am very satisfi...|\n",
            "|    5|Twizzlers, Strawb...|\n",
            "|    5|Candy was deliver...|\n",
            "+-----+--------------------+\n",
            "only showing top 20 rows\n",
            "\n"
          ],
          "name": "stdout"
        }
      ]
    },
    {
      "cell_type": "code",
      "metadata": {
        "colab": {
          "base_uri": "https://localhost:8080/"
        },
        "id": "rJMGKYHJnIwa",
        "outputId": "f80dfeb9-c0c8-44f1-b12b-3d000018c380"
      },
      "source": [
        "review_df = df.withColumnRenamed('Score', 'score').withColumnRenamed('Text', 'review_text')\n",
        "review_df.show()\n"
      ],
      "execution_count": 48,
      "outputs": [
        {
          "output_type": "stream",
          "text": [
            "+-----+--------------------+\n",
            "|score|         review_text|\n",
            "+-----+--------------------+\n",
            "|    5|I have bought sev...|\n",
            "|    1|\"Product arrived ...|\n",
            "|    4|\"This is a confec...|\n",
            "|    2|If you are lookin...|\n",
            "|    5|Great taffy at a ...|\n",
            "|    4|I got a wild hair...|\n",
            "|    5|This saltwater ta...|\n",
            "|    5|This taffy is so ...|\n",
            "|    5|Right now I'm mos...|\n",
            "|    5|This is a very he...|\n",
            "|    5|I don't know if i...|\n",
            "|    5|One of my boys ne...|\n",
            "|    1|My cats have been...|\n",
            "|    4|good flavor! thes...|\n",
            "|    5|The Strawberry Tw...|\n",
            "|    5|My daughter loves...|\n",
            "|    2|I love eating the...|\n",
            "|    5|I am very satisfi...|\n",
            "|    5|Twizzlers, Strawb...|\n",
            "|    5|Candy was deliver...|\n",
            "+-----+--------------------+\n",
            "only showing top 20 rows\n",
            "\n"
          ],
          "name": "stdout"
        }
      ]
    },
    {
      "cell_type": "code",
      "metadata": {
        "id": "z-GrxFcqWO-9",
        "colab": {
          "base_uri": "https://localhost:8080/"
        },
        "outputId": "b7f8bd62-15d0-4bf1-9ec2-0d81e3481206"
      },
      "source": [
        "from pyspark.sql.functions import length\n",
        "review_df = review_df.withColumn('review_length', length(review_df['review_text'])).dropna()\n",
        "review_df.cache()\n",
        "review_df.show()"
      ],
      "execution_count": 50,
      "outputs": [
        {
          "output_type": "stream",
          "text": [
            "+-----+--------------------+-------------+\n",
            "|score|         review_text|review_length|\n",
            "+-----+--------------------+-------------+\n",
            "|    5|I have bought sev...|          263|\n",
            "|    1|\"Product arrived ...|          194|\n",
            "|    4|\"This is a confec...|          386|\n",
            "|    2|If you are lookin...|          219|\n",
            "|    5|Great taffy at a ...|          140|\n",
            "|    4|I got a wild hair...|          416|\n",
            "|    5|This saltwater ta...|          304|\n",
            "|    5|This taffy is so ...|          140|\n",
            "|    5|Right now I'm mos...|          131|\n",
            "|    5|This is a very he...|          137|\n",
            "|    5|I don't know if i...|          779|\n",
            "|    5|One of my boys ne...|          328|\n",
            "|    1|My cats have been...|          399|\n",
            "|    4|good flavor! thes...|           97|\n",
            "|    5|The Strawberry Tw...|          113|\n",
            "|    5|My daughter loves...|          155|\n",
            "|    2|I love eating the...|          195|\n",
            "|    5|I am very satisfi...|          141|\n",
            "|    5|Twizzlers, Strawb...|          746|\n",
            "|    5|Candy was deliver...|          145|\n",
            "+-----+--------------------+-------------+\n",
            "only showing top 20 rows\n",
            "\n"
          ],
          "name": "stdout"
        }
      ]
    },
    {
      "cell_type": "markdown",
      "metadata": {
        "id": "RE6c72aNiofx"
      },
      "source": [
        "## Create Data Pipeline"
      ]
    },
    {
      "cell_type": "code",
      "metadata": {
        "id": "5zekMaH9io_i"
      },
      "source": [
        "from pyspark.ml.feature import Tokenizer, StopWordsRemover, HashingTF, IDF\n",
        "# Create all the features to the data set\n",
        "tokenizer = Tokenizer(inputCol=\"review_text\", outputCol=\"token_text\")\n",
        "stopremove = StopWordsRemover(inputCol='token_text',outputCol='stop_tokens')\n",
        "hashingTF = HashingTF(inputCol=\"token_text\", outputCol='hash_token')\n",
        "idf = IDF(inputCol='hash_token', outputCol='idf_token')"
      ],
      "execution_count": 55,
      "outputs": []
    },
    {
      "cell_type": "code",
      "metadata": {
        "id": "_jJfzALFjK15"
      },
      "source": [
        "from pyspark.ml.feature import VectorAssembler\n",
        "from pyspark.ml.linalg import Vector\n",
        "\n",
        "# Create feature vectors\n",
        "clean_up = VectorAssembler(inputCols=['idf_token', 'review_length'], outputCol='features')"
      ],
      "execution_count": 56,
      "outputs": []
    },
    {
      "cell_type": "code",
      "metadata": {
        "id": "CHIrJdKtjNf4"
      },
      "source": [
        "# Create and run a data processing Pipeline\n",
        "from pyspark.ml import Pipeline\n",
        "data_prep_pipeline = Pipeline(stages=[tokenizer, stopremove, hashingTF, idf, clean_up])"
      ],
      "execution_count": 57,
      "outputs": []
    },
    {
      "cell_type": "markdown",
      "metadata": {
        "id": "cnW01aCWjVRg"
      },
      "source": [
        "## Transform Data"
      ]
    },
    {
      "cell_type": "code",
      "metadata": {
        "id": "ExpnzcvejXvf"
      },
      "source": [
        "# Fit and transform the pipeline\n",
        "cleaner = data_prep_pipeline.fit(review_df)\n",
        "cleaned = cleaner.transform(review_df)"
      ],
      "execution_count": 58,
      "outputs": []
    },
    {
      "cell_type": "code",
      "metadata": {
        "id": "c3ERDVnfjbGv"
      },
      "source": [
        "# Show label of ham spame and resulting features\n",
        "cleaned.select(['label', 'features']).show()"
      ],
      "execution_count": 60,
      "outputs": []
    }
  ]
}